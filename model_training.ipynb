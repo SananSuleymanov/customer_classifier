{
  "nbformat": 4,
  "nbformat_minor": 0,
  "metadata": {
    "colab": {
      "provenance": []
    },
    "kernelspec": {
      "name": "python3",
      "display_name": "Python 3"
    },
    "language_info": {
      "name": "python"
    }
  },
  "cells": [
    {
      "cell_type": "markdown",
      "source": [
        "### Preparation of dataset ###"
      ],
      "metadata": {
        "id": "68GPg_QS7LVm"
      }
    },
    {
      "cell_type": "code",
      "execution_count": 37,
      "metadata": {
        "id": "amFJ8syHRNCB"
      },
      "outputs": [],
      "source": [
        "import pandas as pd\n",
        "import numpy\n",
        "import matplotlib.pyplot as plt"
      ]
    },
    {
      "cell_type": "code",
      "source": [
        "db = pd.read_csv('test_task_data.csv')"
      ],
      "metadata": {
        "id": "5S4duzExR1KK"
      },
      "execution_count": 38,
      "outputs": []
    },
    {
      "cell_type": "code",
      "source": [
        "db.head()"
      ],
      "metadata": {
        "colab": {
          "base_uri": "https://localhost:8080/",
          "height": 206
        },
        "id": "pwQ_vdqlR7w-",
        "outputId": "2de41a76-34b3-4edc-b62e-fc7e6b388913"
      },
      "execution_count": 39,
      "outputs": [
        {
          "output_type": "execute_result",
          "data": {
            "text/plain": [
              "   Transaction_id  customer_id        Date    Product  Gender Device_Type  \\\n",
              "0           40170   1348959766  14/11/2013  Hair Band  Female         Web   \n",
              "1           33374   2213674919  05/11/2013  Hair Band  Female         Web   \n",
              "2           14407   1809450308  01/10/2013  Hair Band  Female         Web   \n",
              "3           15472   1691227134  04/10/2013  Hair Band  Female         Web   \n",
              "4           18709   2290737237  12/10/2013  Hair Band  Female         Web   \n",
              "\n",
              "         Country       State     State.1           City     Category  \\\n",
              "0  United States    New York    New York  New York City  Accessories   \n",
              "1  United States  California  California     Los Angles  Accessories   \n",
              "2  United States  Washington  Washington        Seattle  Accessories   \n",
              "3  United States  Washington  Washington        Seattle  Accessories   \n",
              "4  United States  Washington  Washington        Seattle  Accessories   \n",
              "\n",
              "  Customer_Login_type    Delivery_Type  Transaction_Result Amount US$  \\\n",
              "0              Member  one-day deliver                   0      6,910   \n",
              "1              Member  one-day deliver                   1      1,699   \n",
              "2              Member  Normal Delivery                   0      4,998   \n",
              "3              Member  Normal Delivery                   0        736   \n",
              "4              Member  Normal Delivery                   1      4,389   \n",
              "\n",
              "  Individual_Price_US$ Year_Month      Time  Quantity  \n",
              "0                  576     13-Nov  22:35:51        12  \n",
              "1                  100     13-Nov  06:44:41        17  \n",
              "2                  217     13-Oct  00:41:24        23  \n",
              "3                   32     13-Oct  22:04:03        23  \n",
              "4                  191     13-Oct  15:00:46        23  "
            ],
            "text/html": [
              "\n",
              "  <div id=\"df-f680f3a1-323f-4078-9dcc-83257283dde0\" class=\"colab-df-container\">\n",
              "    <div>\n",
              "<style scoped>\n",
              "    .dataframe tbody tr th:only-of-type {\n",
              "        vertical-align: middle;\n",
              "    }\n",
              "\n",
              "    .dataframe tbody tr th {\n",
              "        vertical-align: top;\n",
              "    }\n",
              "\n",
              "    .dataframe thead th {\n",
              "        text-align: right;\n",
              "    }\n",
              "</style>\n",
              "<table border=\"1\" class=\"dataframe\">\n",
              "  <thead>\n",
              "    <tr style=\"text-align: right;\">\n",
              "      <th></th>\n",
              "      <th>Transaction_id</th>\n",
              "      <th>customer_id</th>\n",
              "      <th>Date</th>\n",
              "      <th>Product</th>\n",
              "      <th>Gender</th>\n",
              "      <th>Device_Type</th>\n",
              "      <th>Country</th>\n",
              "      <th>State</th>\n",
              "      <th>State.1</th>\n",
              "      <th>City</th>\n",
              "      <th>Category</th>\n",
              "      <th>Customer_Login_type</th>\n",
              "      <th>Delivery_Type</th>\n",
              "      <th>Transaction_Result</th>\n",
              "      <th>Amount US$</th>\n",
              "      <th>Individual_Price_US$</th>\n",
              "      <th>Year_Month</th>\n",
              "      <th>Time</th>\n",
              "      <th>Quantity</th>\n",
              "    </tr>\n",
              "  </thead>\n",
              "  <tbody>\n",
              "    <tr>\n",
              "      <th>0</th>\n",
              "      <td>40170</td>\n",
              "      <td>1348959766</td>\n",
              "      <td>14/11/2013</td>\n",
              "      <td>Hair Band</td>\n",
              "      <td>Female</td>\n",
              "      <td>Web</td>\n",
              "      <td>United States</td>\n",
              "      <td>New York</td>\n",
              "      <td>New York</td>\n",
              "      <td>New York City</td>\n",
              "      <td>Accessories</td>\n",
              "      <td>Member</td>\n",
              "      <td>one-day deliver</td>\n",
              "      <td>0</td>\n",
              "      <td>6,910</td>\n",
              "      <td>576</td>\n",
              "      <td>13-Nov</td>\n",
              "      <td>22:35:51</td>\n",
              "      <td>12</td>\n",
              "    </tr>\n",
              "    <tr>\n",
              "      <th>1</th>\n",
              "      <td>33374</td>\n",
              "      <td>2213674919</td>\n",
              "      <td>05/11/2013</td>\n",
              "      <td>Hair Band</td>\n",
              "      <td>Female</td>\n",
              "      <td>Web</td>\n",
              "      <td>United States</td>\n",
              "      <td>California</td>\n",
              "      <td>California</td>\n",
              "      <td>Los Angles</td>\n",
              "      <td>Accessories</td>\n",
              "      <td>Member</td>\n",
              "      <td>one-day deliver</td>\n",
              "      <td>1</td>\n",
              "      <td>1,699</td>\n",
              "      <td>100</td>\n",
              "      <td>13-Nov</td>\n",
              "      <td>06:44:41</td>\n",
              "      <td>17</td>\n",
              "    </tr>\n",
              "    <tr>\n",
              "      <th>2</th>\n",
              "      <td>14407</td>\n",
              "      <td>1809450308</td>\n",
              "      <td>01/10/2013</td>\n",
              "      <td>Hair Band</td>\n",
              "      <td>Female</td>\n",
              "      <td>Web</td>\n",
              "      <td>United States</td>\n",
              "      <td>Washington</td>\n",
              "      <td>Washington</td>\n",
              "      <td>Seattle</td>\n",
              "      <td>Accessories</td>\n",
              "      <td>Member</td>\n",
              "      <td>Normal Delivery</td>\n",
              "      <td>0</td>\n",
              "      <td>4,998</td>\n",
              "      <td>217</td>\n",
              "      <td>13-Oct</td>\n",
              "      <td>00:41:24</td>\n",
              "      <td>23</td>\n",
              "    </tr>\n",
              "    <tr>\n",
              "      <th>3</th>\n",
              "      <td>15472</td>\n",
              "      <td>1691227134</td>\n",
              "      <td>04/10/2013</td>\n",
              "      <td>Hair Band</td>\n",
              "      <td>Female</td>\n",
              "      <td>Web</td>\n",
              "      <td>United States</td>\n",
              "      <td>Washington</td>\n",
              "      <td>Washington</td>\n",
              "      <td>Seattle</td>\n",
              "      <td>Accessories</td>\n",
              "      <td>Member</td>\n",
              "      <td>Normal Delivery</td>\n",
              "      <td>0</td>\n",
              "      <td>736</td>\n",
              "      <td>32</td>\n",
              "      <td>13-Oct</td>\n",
              "      <td>22:04:03</td>\n",
              "      <td>23</td>\n",
              "    </tr>\n",
              "    <tr>\n",
              "      <th>4</th>\n",
              "      <td>18709</td>\n",
              "      <td>2290737237</td>\n",
              "      <td>12/10/2013</td>\n",
              "      <td>Hair Band</td>\n",
              "      <td>Female</td>\n",
              "      <td>Web</td>\n",
              "      <td>United States</td>\n",
              "      <td>Washington</td>\n",
              "      <td>Washington</td>\n",
              "      <td>Seattle</td>\n",
              "      <td>Accessories</td>\n",
              "      <td>Member</td>\n",
              "      <td>Normal Delivery</td>\n",
              "      <td>1</td>\n",
              "      <td>4,389</td>\n",
              "      <td>191</td>\n",
              "      <td>13-Oct</td>\n",
              "      <td>15:00:46</td>\n",
              "      <td>23</td>\n",
              "    </tr>\n",
              "  </tbody>\n",
              "</table>\n",
              "</div>\n",
              "    <div class=\"colab-df-buttons\">\n",
              "\n",
              "  <div class=\"colab-df-container\">\n",
              "    <button class=\"colab-df-convert\" onclick=\"convertToInteractive('df-f680f3a1-323f-4078-9dcc-83257283dde0')\"\n",
              "            title=\"Convert this dataframe to an interactive table.\"\n",
              "            style=\"display:none;\">\n",
              "\n",
              "  <svg xmlns=\"http://www.w3.org/2000/svg\" height=\"24px\" viewBox=\"0 -960 960 960\">\n",
              "    <path d=\"M120-120v-720h720v720H120Zm60-500h600v-160H180v160Zm220 220h160v-160H400v160Zm0 220h160v-160H400v160ZM180-400h160v-160H180v160Zm440 0h160v-160H620v160ZM180-180h160v-160H180v160Zm440 0h160v-160H620v160Z\"/>\n",
              "  </svg>\n",
              "    </button>\n",
              "\n",
              "  <style>\n",
              "    .colab-df-container {\n",
              "      display:flex;\n",
              "      gap: 12px;\n",
              "    }\n",
              "\n",
              "    .colab-df-convert {\n",
              "      background-color: #E8F0FE;\n",
              "      border: none;\n",
              "      border-radius: 50%;\n",
              "      cursor: pointer;\n",
              "      display: none;\n",
              "      fill: #1967D2;\n",
              "      height: 32px;\n",
              "      padding: 0 0 0 0;\n",
              "      width: 32px;\n",
              "    }\n",
              "\n",
              "    .colab-df-convert:hover {\n",
              "      background-color: #E2EBFA;\n",
              "      box-shadow: 0px 1px 2px rgba(60, 64, 67, 0.3), 0px 1px 3px 1px rgba(60, 64, 67, 0.15);\n",
              "      fill: #174EA6;\n",
              "    }\n",
              "\n",
              "    .colab-df-buttons div {\n",
              "      margin-bottom: 4px;\n",
              "    }\n",
              "\n",
              "    [theme=dark] .colab-df-convert {\n",
              "      background-color: #3B4455;\n",
              "      fill: #D2E3FC;\n",
              "    }\n",
              "\n",
              "    [theme=dark] .colab-df-convert:hover {\n",
              "      background-color: #434B5C;\n",
              "      box-shadow: 0px 1px 3px 1px rgba(0, 0, 0, 0.15);\n",
              "      filter: drop-shadow(0px 1px 2px rgba(0, 0, 0, 0.3));\n",
              "      fill: #FFFFFF;\n",
              "    }\n",
              "  </style>\n",
              "\n",
              "    <script>\n",
              "      const buttonEl =\n",
              "        document.querySelector('#df-f680f3a1-323f-4078-9dcc-83257283dde0 button.colab-df-convert');\n",
              "      buttonEl.style.display =\n",
              "        google.colab.kernel.accessAllowed ? 'block' : 'none';\n",
              "\n",
              "      async function convertToInteractive(key) {\n",
              "        const element = document.querySelector('#df-f680f3a1-323f-4078-9dcc-83257283dde0');\n",
              "        const dataTable =\n",
              "          await google.colab.kernel.invokeFunction('convertToInteractive',\n",
              "                                                    [key], {});\n",
              "        if (!dataTable) return;\n",
              "\n",
              "        const docLinkHtml = 'Like what you see? Visit the ' +\n",
              "          '<a target=\"_blank\" href=https://colab.research.google.com/notebooks/data_table.ipynb>data table notebook</a>'\n",
              "          + ' to learn more about interactive tables.';\n",
              "        element.innerHTML = '';\n",
              "        dataTable['output_type'] = 'display_data';\n",
              "        await google.colab.output.renderOutput(dataTable, element);\n",
              "        const docLink = document.createElement('div');\n",
              "        docLink.innerHTML = docLinkHtml;\n",
              "        element.appendChild(docLink);\n",
              "      }\n",
              "    </script>\n",
              "  </div>\n",
              "\n",
              "\n",
              "<div id=\"df-ace9cbd8-59bd-4953-b86b-aa6f4bbb0f95\">\n",
              "  <button class=\"colab-df-quickchart\" onclick=\"quickchart('df-ace9cbd8-59bd-4953-b86b-aa6f4bbb0f95')\"\n",
              "            title=\"Suggest charts\"\n",
              "            style=\"display:none;\">\n",
              "\n",
              "<svg xmlns=\"http://www.w3.org/2000/svg\" height=\"24px\"viewBox=\"0 0 24 24\"\n",
              "     width=\"24px\">\n",
              "    <g>\n",
              "        <path d=\"M19 3H5c-1.1 0-2 .9-2 2v14c0 1.1.9 2 2 2h14c1.1 0 2-.9 2-2V5c0-1.1-.9-2-2-2zM9 17H7v-7h2v7zm4 0h-2V7h2v10zm4 0h-2v-4h2v4z\"/>\n",
              "    </g>\n",
              "</svg>\n",
              "  </button>\n",
              "\n",
              "<style>\n",
              "  .colab-df-quickchart {\n",
              "      --bg-color: #E8F0FE;\n",
              "      --fill-color: #1967D2;\n",
              "      --hover-bg-color: #E2EBFA;\n",
              "      --hover-fill-color: #174EA6;\n",
              "      --disabled-fill-color: #AAA;\n",
              "      --disabled-bg-color: #DDD;\n",
              "  }\n",
              "\n",
              "  [theme=dark] .colab-df-quickchart {\n",
              "      --bg-color: #3B4455;\n",
              "      --fill-color: #D2E3FC;\n",
              "      --hover-bg-color: #434B5C;\n",
              "      --hover-fill-color: #FFFFFF;\n",
              "      --disabled-bg-color: #3B4455;\n",
              "      --disabled-fill-color: #666;\n",
              "  }\n",
              "\n",
              "  .colab-df-quickchart {\n",
              "    background-color: var(--bg-color);\n",
              "    border: none;\n",
              "    border-radius: 50%;\n",
              "    cursor: pointer;\n",
              "    display: none;\n",
              "    fill: var(--fill-color);\n",
              "    height: 32px;\n",
              "    padding: 0;\n",
              "    width: 32px;\n",
              "  }\n",
              "\n",
              "  .colab-df-quickchart:hover {\n",
              "    background-color: var(--hover-bg-color);\n",
              "    box-shadow: 0 1px 2px rgba(60, 64, 67, 0.3), 0 1px 3px 1px rgba(60, 64, 67, 0.15);\n",
              "    fill: var(--button-hover-fill-color);\n",
              "  }\n",
              "\n",
              "  .colab-df-quickchart-complete:disabled,\n",
              "  .colab-df-quickchart-complete:disabled:hover {\n",
              "    background-color: var(--disabled-bg-color);\n",
              "    fill: var(--disabled-fill-color);\n",
              "    box-shadow: none;\n",
              "  }\n",
              "\n",
              "  .colab-df-spinner {\n",
              "    border: 2px solid var(--fill-color);\n",
              "    border-color: transparent;\n",
              "    border-bottom-color: var(--fill-color);\n",
              "    animation:\n",
              "      spin 1s steps(1) infinite;\n",
              "  }\n",
              "\n",
              "  @keyframes spin {\n",
              "    0% {\n",
              "      border-color: transparent;\n",
              "      border-bottom-color: var(--fill-color);\n",
              "      border-left-color: var(--fill-color);\n",
              "    }\n",
              "    20% {\n",
              "      border-color: transparent;\n",
              "      border-left-color: var(--fill-color);\n",
              "      border-top-color: var(--fill-color);\n",
              "    }\n",
              "    30% {\n",
              "      border-color: transparent;\n",
              "      border-left-color: var(--fill-color);\n",
              "      border-top-color: var(--fill-color);\n",
              "      border-right-color: var(--fill-color);\n",
              "    }\n",
              "    40% {\n",
              "      border-color: transparent;\n",
              "      border-right-color: var(--fill-color);\n",
              "      border-top-color: var(--fill-color);\n",
              "    }\n",
              "    60% {\n",
              "      border-color: transparent;\n",
              "      border-right-color: var(--fill-color);\n",
              "    }\n",
              "    80% {\n",
              "      border-color: transparent;\n",
              "      border-right-color: var(--fill-color);\n",
              "      border-bottom-color: var(--fill-color);\n",
              "    }\n",
              "    90% {\n",
              "      border-color: transparent;\n",
              "      border-bottom-color: var(--fill-color);\n",
              "    }\n",
              "  }\n",
              "</style>\n",
              "\n",
              "  <script>\n",
              "    async function quickchart(key) {\n",
              "      const quickchartButtonEl =\n",
              "        document.querySelector('#' + key + ' button');\n",
              "      quickchartButtonEl.disabled = true;  // To prevent multiple clicks.\n",
              "      quickchartButtonEl.classList.add('colab-df-spinner');\n",
              "      try {\n",
              "        const charts = await google.colab.kernel.invokeFunction(\n",
              "            'suggestCharts', [key], {});\n",
              "      } catch (error) {\n",
              "        console.error('Error during call to suggestCharts:', error);\n",
              "      }\n",
              "      quickchartButtonEl.classList.remove('colab-df-spinner');\n",
              "      quickchartButtonEl.classList.add('colab-df-quickchart-complete');\n",
              "    }\n",
              "    (() => {\n",
              "      let quickchartButtonEl =\n",
              "        document.querySelector('#df-ace9cbd8-59bd-4953-b86b-aa6f4bbb0f95 button');\n",
              "      quickchartButtonEl.style.display =\n",
              "        google.colab.kernel.accessAllowed ? 'block' : 'none';\n",
              "    })();\n",
              "  </script>\n",
              "</div>\n",
              "\n",
              "    </div>\n",
              "  </div>\n"
            ],
            "application/vnd.google.colaboratory.intrinsic+json": {
              "type": "dataframe",
              "variable_name": "db",
              "summary": "{\n  \"name\": \"db\",\n  \"rows\": 65535,\n  \"fields\": [\n    {\n      \"column\": \"Transaction_id\",\n      \"properties\": {\n        \"dtype\": \"number\",\n        \"std\": 20980,\n        \"min\": 10001,\n        \"max\": 93437,\n        \"num_unique_values\": 65535,\n        \"samples\": [\n          16887,\n          22732,\n          39832\n        ],\n        \"semantic_type\": \"\",\n        \"description\": \"\"\n      }\n    },\n    {\n      \"column\": \"customer_id\",\n      \"properties\": {\n        \"dtype\": \"number\",\n        \"std\": 333730797,\n        \"min\": 1152933280,\n        \"max\": 2305788505,\n        \"num_unique_values\": 64999,\n        \"samples\": [\n          1901488927,\n          2000192035,\n          1499396571\n        ],\n        \"semantic_type\": \"\",\n        \"description\": \"\"\n      }\n    },\n    {\n      \"column\": \"Date\",\n      \"properties\": {\n        \"dtype\": \"object\",\n        \"num_unique_values\": 115,\n        \"samples\": [\n          \"31/12/2013\",\n          \"12/10/2013\",\n          \"21/10/2013\"\n        ],\n        \"semantic_type\": \"\",\n        \"description\": \"\"\n      }\n    },\n    {\n      \"column\": \"Product\",\n      \"properties\": {\n        \"dtype\": \"category\",\n        \"num_unique_values\": 12,\n        \"samples\": [\n          \"Cycle\",\n          \"Books\",\n          \"Hair Band\"\n        ],\n        \"semantic_type\": \"\",\n        \"description\": \"\"\n      }\n    },\n    {\n      \"column\": \"Gender\",\n      \"properties\": {\n        \"dtype\": \"category\",\n        \"num_unique_values\": 2,\n        \"samples\": [\n          \"Male\",\n          \"Female\"\n        ],\n        \"semantic_type\": \"\",\n        \"description\": \"\"\n      }\n    },\n    {\n      \"column\": \"Device_Type\",\n      \"properties\": {\n        \"dtype\": \"category\",\n        \"num_unique_values\": 2,\n        \"samples\": [\n          \"Mobile\",\n          \"Web\"\n        ],\n        \"semantic_type\": \"\",\n        \"description\": \"\"\n      }\n    },\n    {\n      \"column\": \"Country\",\n      \"properties\": {\n        \"dtype\": \"category\",\n        \"num_unique_values\": 1,\n        \"samples\": [\n          \"United States\"\n        ],\n        \"semantic_type\": \"\",\n        \"description\": \"\"\n      }\n    },\n    {\n      \"column\": \"State\",\n      \"properties\": {\n        \"dtype\": \"category\",\n        \"num_unique_values\": 3,\n        \"samples\": [\n          \"New York\"\n        ],\n        \"semantic_type\": \"\",\n        \"description\": \"\"\n      }\n    },\n    {\n      \"column\": \"State.1\",\n      \"properties\": {\n        \"dtype\": \"category\",\n        \"num_unique_values\": 3,\n        \"samples\": [\n          \"New York\"\n        ],\n        \"semantic_type\": \"\",\n        \"description\": \"\"\n      }\n    },\n    {\n      \"column\": \"City\",\n      \"properties\": {\n        \"dtype\": \"category\",\n        \"num_unique_values\": 3,\n        \"samples\": [\n          \"New York City\"\n        ],\n        \"semantic_type\": \"\",\n        \"description\": \"\"\n      }\n    },\n    {\n      \"column\": \"Category\",\n      \"properties\": {\n        \"dtype\": \"category\",\n        \"num_unique_values\": 8,\n        \"samples\": [\n          \"Clothing\"\n        ],\n        \"semantic_type\": \"\",\n        \"description\": \"\"\n      }\n    },\n    {\n      \"column\": \"Customer_Login_type\",\n      \"properties\": {\n        \"dtype\": \"category\",\n        \"num_unique_values\": 4,\n        \"samples\": [\n          \"Guest\"\n        ],\n        \"semantic_type\": \"\",\n        \"description\": \"\"\n      }\n    },\n    {\n      \"column\": \"Delivery_Type\",\n      \"properties\": {\n        \"dtype\": \"category\",\n        \"num_unique_values\": 2,\n        \"samples\": [\n          \"Normal Delivery\"\n        ],\n        \"semantic_type\": \"\",\n        \"description\": \"\"\n      }\n    },\n    {\n      \"column\": \"Transaction_Result\",\n      \"properties\": {\n        \"dtype\": \"number\",\n        \"std\": 0,\n        \"min\": 0,\n        \"max\": 1,\n        \"num_unique_values\": 2,\n        \"samples\": [\n          1\n        ],\n        \"semantic_type\": \"\",\n        \"description\": \"\"\n      }\n    },\n    {\n      \"column\": \"Amount US$\",\n      \"properties\": {\n        \"dtype\": \"category\",\n        \"num_unique_values\": 11310,\n        \"samples\": [\n          \"1,553\"\n        ],\n        \"semantic_type\": \"\",\n        \"description\": \"\"\n      }\n    },\n    {\n      \"column\": \"Individual_Price_US$\",\n      \"properties\": {\n        \"dtype\": \"category\",\n        \"num_unique_values\": 2387,\n        \"samples\": [\n          \"2,221\"\n        ],\n        \"semantic_type\": \"\",\n        \"description\": \"\"\n      }\n    },\n    {\n      \"column\": \"Year_Month\",\n      \"properties\": {\n        \"dtype\": \"category\",\n        \"num_unique_values\": 5,\n        \"samples\": [\n          \"13-Oct\"\n        ],\n        \"semantic_type\": \"\",\n        \"description\": \"\"\n      }\n    },\n    {\n      \"column\": \"Time\",\n      \"properties\": {\n        \"dtype\": \"object\",\n        \"num_unique_values\": 45798,\n        \"samples\": [\n          \"02:57:08\"\n        ],\n        \"semantic_type\": \"\",\n        \"description\": \"\"\n      }\n    },\n    {\n      \"column\": \"Quantity\",\n      \"properties\": {\n        \"dtype\": \"number\",\n        \"std\": 3,\n        \"min\": 12,\n        \"max\": 23,\n        \"num_unique_values\": 12,\n        \"samples\": [\n          13\n        ],\n        \"semantic_type\": \"\",\n        \"description\": \"\"\n      }\n    }\n  ]\n}"
            }
          },
          "metadata": {},
          "execution_count": 39
        }
      ]
    },
    {
      "cell_type": "markdown",
      "source": [
        "There is a dublication of columns. We can drop 'State.1' column"
      ],
      "metadata": {
        "id": "SNPLDAb97S6T"
      }
    },
    {
      "cell_type": "code",
      "source": [
        "data = db.drop(columns = 'State.1')"
      ],
      "metadata": {
        "id": "xZsY8OZI4t7k"
      },
      "execution_count": 40,
      "outputs": []
    },
    {
      "cell_type": "markdown",
      "source": [
        "Converting 'Amount US' and\t'Individual_Price_US' colums to float"
      ],
      "metadata": {
        "id": "vatpv5_o7bKb"
      }
    },
    {
      "cell_type": "code",
      "source": [
        "data['Amount US$']= data['Amount US$'].str.replace(',','').astype(float)"
      ],
      "metadata": {
        "id": "Kz-DZBgh5CPd"
      },
      "execution_count": 41,
      "outputs": []
    },
    {
      "cell_type": "code",
      "source": [
        "#There is invalid entry '#VALUE!' and rows with that are removed\n",
        "data = data[data['Individual_Price_US$'] !='#VALUE!']"
      ],
      "metadata": {
        "id": "PZKO24of5jV-"
      },
      "execution_count": 42,
      "outputs": []
    },
    {
      "cell_type": "code",
      "source": [
        "data['Individual_Price_US$']= data['Individual_Price_US$'].str.replace(',','').astype(float)"
      ],
      "metadata": {
        "id": "NCzp_eBV5cEU"
      },
      "execution_count": 43,
      "outputs": []
    },
    {
      "cell_type": "markdown",
      "source": [
        "New column with conversion of 'Date' to datetime format and because it is timeseries data we can make sure it is in time order by sorting."
      ],
      "metadata": {
        "id": "0A_uU9-o_wxQ"
      }
    },
    {
      "cell_type": "code",
      "source": [
        "data['Datetime'] = pd.to_datetime(data['Date'], format='%d/%m/%Y')\n",
        "data_cleaned = data.sort_values(by=['Datetime'])"
      ],
      "metadata": {
        "id": "g6j60H6tVXeV"
      },
      "execution_count": 44,
      "outputs": []
    },
    {
      "cell_type": "code",
      "source": [
        "data_cleaned"
      ],
      "metadata": {
        "colab": {
          "base_uri": "https://localhost:8080/",
          "height": 423
        },
        "id": "Os1VcvZFevYu",
        "outputId": "59d9d151-63bc-4598-91ff-384e47499712"
      },
      "execution_count": 45,
      "outputs": [
        {
          "output_type": "execute_result",
          "data": {
            "text/plain": [
              "       Transaction_id  customer_id        Date            Product  Gender  \\\n",
              "36222           10181   1272660297  20/09/2013         spectacles    Male   \n",
              "9760            10105   1714931982  20/09/2013              Shirt    Male   \n",
              "9759            10101   1939632524  20/09/2013              Shirt    Male   \n",
              "9758            10096   1325671900  20/09/2013              Shirt    Male   \n",
              "9757            10094   1883062528  20/09/2013              Shirt    Male   \n",
              "...               ...          ...         ...                ...     ...   \n",
              "24947           92748   1578329112  13/01/2014  watNew York Citys    Male   \n",
              "24948           92818   1477771542  13/01/2014  watNew York Citys    Male   \n",
              "24949           92909   1416420740  13/01/2014  watNew York Citys    Male   \n",
              "62877           93294   2113032506  13/01/2014              Shoes  Female   \n",
              "36140           93424   1347837301  13/01/2014     Fairness Cream  Female   \n",
              "\n",
              "      Device_Type        Country       State        City     Category  \\\n",
              "36222         Web  United States  Washington     Seattle      Fashion   \n",
              "9760          Web  United States  Washington     Seattle     Clothing   \n",
              "9759          Web  United States  Washington     Seattle     Clothing   \n",
              "9758          Web  United States  Washington     Seattle     Clothing   \n",
              "9757          Web  United States  Washington     Seattle     Clothing   \n",
              "...           ...            ...         ...         ...          ...   \n",
              "24947      Mobile  United States  California  Los Angles  Electronics   \n",
              "24948      Mobile  United States  California  Los Angles  Electronics   \n",
              "24949      Mobile  United States  California  Los Angles  Electronics   \n",
              "62877      Mobile  United States  California  Los Angles    wearables   \n",
              "36140         Web  United States  California  Los Angles      Fashion   \n",
              "\n",
              "      Customer_Login_type    Delivery_Type  Transaction_Result  Amount US$  \\\n",
              "36222              Member  one-day deliver                   1      2575.0   \n",
              "9760               Member  one-day deliver                   1      6619.0   \n",
              "9759               Member  Normal Delivery                   0      4550.0   \n",
              "9758               Member  one-day deliver                   1      1000.0   \n",
              "9757               Member  one-day deliver                   1       420.0   \n",
              "...                   ...              ...                 ...         ...   \n",
              "24947              Member  one-day deliver                   1      3000.0   \n",
              "24948              Member  one-day deliver                   1      5194.0   \n",
              "24949              Member  one-day deliver                   1      1130.0   \n",
              "62877              Member  one-day deliver                   1         0.0   \n",
              "36140              Member  one-day deliver                   1       100.0   \n",
              "\n",
              "       Individual_Price_US$ Year_Month      Time  Quantity   Datetime  \n",
              "36222                 136.0     13-Sep  15:52:28        19 2013-09-20  \n",
              "9760                  509.0     13-Sep  23:02:25        13 2013-09-20  \n",
              "9759                  228.0     13-Sep  04:36:48        20 2013-09-20  \n",
              "9758                   83.0     13-Sep  20:32:05        12 2013-09-20  \n",
              "9757                   35.0     13-Sep  16:04:17        12 2013-09-20  \n",
              "...                     ...        ...       ...       ...        ...  \n",
              "24947                 188.0     14-Jan  23:31:09        16 2014-01-13  \n",
              "24948                 260.0     14-Jan  16:51:46        20 2014-01-13  \n",
              "24949                  59.0     14-Jan  19:41:17        19 2014-01-13  \n",
              "62877                   0.0     14-Jan  02:24:56        12 2014-01-13  \n",
              "36140                   5.0     14-Jan  08:50:55        21 2014-01-13  \n",
              "\n",
              "[65376 rows x 19 columns]"
            ],
            "text/html": [
              "\n",
              "  <div id=\"df-7d6c770d-2dbd-475c-b94c-dc40f1a6399d\" class=\"colab-df-container\">\n",
              "    <div>\n",
              "<style scoped>\n",
              "    .dataframe tbody tr th:only-of-type {\n",
              "        vertical-align: middle;\n",
              "    }\n",
              "\n",
              "    .dataframe tbody tr th {\n",
              "        vertical-align: top;\n",
              "    }\n",
              "\n",
              "    .dataframe thead th {\n",
              "        text-align: right;\n",
              "    }\n",
              "</style>\n",
              "<table border=\"1\" class=\"dataframe\">\n",
              "  <thead>\n",
              "    <tr style=\"text-align: right;\">\n",
              "      <th></th>\n",
              "      <th>Transaction_id</th>\n",
              "      <th>customer_id</th>\n",
              "      <th>Date</th>\n",
              "      <th>Product</th>\n",
              "      <th>Gender</th>\n",
              "      <th>Device_Type</th>\n",
              "      <th>Country</th>\n",
              "      <th>State</th>\n",
              "      <th>City</th>\n",
              "      <th>Category</th>\n",
              "      <th>Customer_Login_type</th>\n",
              "      <th>Delivery_Type</th>\n",
              "      <th>Transaction_Result</th>\n",
              "      <th>Amount US$</th>\n",
              "      <th>Individual_Price_US$</th>\n",
              "      <th>Year_Month</th>\n",
              "      <th>Time</th>\n",
              "      <th>Quantity</th>\n",
              "      <th>Datetime</th>\n",
              "    </tr>\n",
              "  </thead>\n",
              "  <tbody>\n",
              "    <tr>\n",
              "      <th>36222</th>\n",
              "      <td>10181</td>\n",
              "      <td>1272660297</td>\n",
              "      <td>20/09/2013</td>\n",
              "      <td>spectacles</td>\n",
              "      <td>Male</td>\n",
              "      <td>Web</td>\n",
              "      <td>United States</td>\n",
              "      <td>Washington</td>\n",
              "      <td>Seattle</td>\n",
              "      <td>Fashion</td>\n",
              "      <td>Member</td>\n",
              "      <td>one-day deliver</td>\n",
              "      <td>1</td>\n",
              "      <td>2575.0</td>\n",
              "      <td>136.0</td>\n",
              "      <td>13-Sep</td>\n",
              "      <td>15:52:28</td>\n",
              "      <td>19</td>\n",
              "      <td>2013-09-20</td>\n",
              "    </tr>\n",
              "    <tr>\n",
              "      <th>9760</th>\n",
              "      <td>10105</td>\n",
              "      <td>1714931982</td>\n",
              "      <td>20/09/2013</td>\n",
              "      <td>Shirt</td>\n",
              "      <td>Male</td>\n",
              "      <td>Web</td>\n",
              "      <td>United States</td>\n",
              "      <td>Washington</td>\n",
              "      <td>Seattle</td>\n",
              "      <td>Clothing</td>\n",
              "      <td>Member</td>\n",
              "      <td>one-day deliver</td>\n",
              "      <td>1</td>\n",
              "      <td>6619.0</td>\n",
              "      <td>509.0</td>\n",
              "      <td>13-Sep</td>\n",
              "      <td>23:02:25</td>\n",
              "      <td>13</td>\n",
              "      <td>2013-09-20</td>\n",
              "    </tr>\n",
              "    <tr>\n",
              "      <th>9759</th>\n",
              "      <td>10101</td>\n",
              "      <td>1939632524</td>\n",
              "      <td>20/09/2013</td>\n",
              "      <td>Shirt</td>\n",
              "      <td>Male</td>\n",
              "      <td>Web</td>\n",
              "      <td>United States</td>\n",
              "      <td>Washington</td>\n",
              "      <td>Seattle</td>\n",
              "      <td>Clothing</td>\n",
              "      <td>Member</td>\n",
              "      <td>Normal Delivery</td>\n",
              "      <td>0</td>\n",
              "      <td>4550.0</td>\n",
              "      <td>228.0</td>\n",
              "      <td>13-Sep</td>\n",
              "      <td>04:36:48</td>\n",
              "      <td>20</td>\n",
              "      <td>2013-09-20</td>\n",
              "    </tr>\n",
              "    <tr>\n",
              "      <th>9758</th>\n",
              "      <td>10096</td>\n",
              "      <td>1325671900</td>\n",
              "      <td>20/09/2013</td>\n",
              "      <td>Shirt</td>\n",
              "      <td>Male</td>\n",
              "      <td>Web</td>\n",
              "      <td>United States</td>\n",
              "      <td>Washington</td>\n",
              "      <td>Seattle</td>\n",
              "      <td>Clothing</td>\n",
              "      <td>Member</td>\n",
              "      <td>one-day deliver</td>\n",
              "      <td>1</td>\n",
              "      <td>1000.0</td>\n",
              "      <td>83.0</td>\n",
              "      <td>13-Sep</td>\n",
              "      <td>20:32:05</td>\n",
              "      <td>12</td>\n",
              "      <td>2013-09-20</td>\n",
              "    </tr>\n",
              "    <tr>\n",
              "      <th>9757</th>\n",
              "      <td>10094</td>\n",
              "      <td>1883062528</td>\n",
              "      <td>20/09/2013</td>\n",
              "      <td>Shirt</td>\n",
              "      <td>Male</td>\n",
              "      <td>Web</td>\n",
              "      <td>United States</td>\n",
              "      <td>Washington</td>\n",
              "      <td>Seattle</td>\n",
              "      <td>Clothing</td>\n",
              "      <td>Member</td>\n",
              "      <td>one-day deliver</td>\n",
              "      <td>1</td>\n",
              "      <td>420.0</td>\n",
              "      <td>35.0</td>\n",
              "      <td>13-Sep</td>\n",
              "      <td>16:04:17</td>\n",
              "      <td>12</td>\n",
              "      <td>2013-09-20</td>\n",
              "    </tr>\n",
              "    <tr>\n",
              "      <th>...</th>\n",
              "      <td>...</td>\n",
              "      <td>...</td>\n",
              "      <td>...</td>\n",
              "      <td>...</td>\n",
              "      <td>...</td>\n",
              "      <td>...</td>\n",
              "      <td>...</td>\n",
              "      <td>...</td>\n",
              "      <td>...</td>\n",
              "      <td>...</td>\n",
              "      <td>...</td>\n",
              "      <td>...</td>\n",
              "      <td>...</td>\n",
              "      <td>...</td>\n",
              "      <td>...</td>\n",
              "      <td>...</td>\n",
              "      <td>...</td>\n",
              "      <td>...</td>\n",
              "      <td>...</td>\n",
              "    </tr>\n",
              "    <tr>\n",
              "      <th>24947</th>\n",
              "      <td>92748</td>\n",
              "      <td>1578329112</td>\n",
              "      <td>13/01/2014</td>\n",
              "      <td>watNew York Citys</td>\n",
              "      <td>Male</td>\n",
              "      <td>Mobile</td>\n",
              "      <td>United States</td>\n",
              "      <td>California</td>\n",
              "      <td>Los Angles</td>\n",
              "      <td>Electronics</td>\n",
              "      <td>Member</td>\n",
              "      <td>one-day deliver</td>\n",
              "      <td>1</td>\n",
              "      <td>3000.0</td>\n",
              "      <td>188.0</td>\n",
              "      <td>14-Jan</td>\n",
              "      <td>23:31:09</td>\n",
              "      <td>16</td>\n",
              "      <td>2014-01-13</td>\n",
              "    </tr>\n",
              "    <tr>\n",
              "      <th>24948</th>\n",
              "      <td>92818</td>\n",
              "      <td>1477771542</td>\n",
              "      <td>13/01/2014</td>\n",
              "      <td>watNew York Citys</td>\n",
              "      <td>Male</td>\n",
              "      <td>Mobile</td>\n",
              "      <td>United States</td>\n",
              "      <td>California</td>\n",
              "      <td>Los Angles</td>\n",
              "      <td>Electronics</td>\n",
              "      <td>Member</td>\n",
              "      <td>one-day deliver</td>\n",
              "      <td>1</td>\n",
              "      <td>5194.0</td>\n",
              "      <td>260.0</td>\n",
              "      <td>14-Jan</td>\n",
              "      <td>16:51:46</td>\n",
              "      <td>20</td>\n",
              "      <td>2014-01-13</td>\n",
              "    </tr>\n",
              "    <tr>\n",
              "      <th>24949</th>\n",
              "      <td>92909</td>\n",
              "      <td>1416420740</td>\n",
              "      <td>13/01/2014</td>\n",
              "      <td>watNew York Citys</td>\n",
              "      <td>Male</td>\n",
              "      <td>Mobile</td>\n",
              "      <td>United States</td>\n",
              "      <td>California</td>\n",
              "      <td>Los Angles</td>\n",
              "      <td>Electronics</td>\n",
              "      <td>Member</td>\n",
              "      <td>one-day deliver</td>\n",
              "      <td>1</td>\n",
              "      <td>1130.0</td>\n",
              "      <td>59.0</td>\n",
              "      <td>14-Jan</td>\n",
              "      <td>19:41:17</td>\n",
              "      <td>19</td>\n",
              "      <td>2014-01-13</td>\n",
              "    </tr>\n",
              "    <tr>\n",
              "      <th>62877</th>\n",
              "      <td>93294</td>\n",
              "      <td>2113032506</td>\n",
              "      <td>13/01/2014</td>\n",
              "      <td>Shoes</td>\n",
              "      <td>Female</td>\n",
              "      <td>Mobile</td>\n",
              "      <td>United States</td>\n",
              "      <td>California</td>\n",
              "      <td>Los Angles</td>\n",
              "      <td>wearables</td>\n",
              "      <td>Member</td>\n",
              "      <td>one-day deliver</td>\n",
              "      <td>1</td>\n",
              "      <td>0.0</td>\n",
              "      <td>0.0</td>\n",
              "      <td>14-Jan</td>\n",
              "      <td>02:24:56</td>\n",
              "      <td>12</td>\n",
              "      <td>2014-01-13</td>\n",
              "    </tr>\n",
              "    <tr>\n",
              "      <th>36140</th>\n",
              "      <td>93424</td>\n",
              "      <td>1347837301</td>\n",
              "      <td>13/01/2014</td>\n",
              "      <td>Fairness Cream</td>\n",
              "      <td>Female</td>\n",
              "      <td>Web</td>\n",
              "      <td>United States</td>\n",
              "      <td>California</td>\n",
              "      <td>Los Angles</td>\n",
              "      <td>Fashion</td>\n",
              "      <td>Member</td>\n",
              "      <td>one-day deliver</td>\n",
              "      <td>1</td>\n",
              "      <td>100.0</td>\n",
              "      <td>5.0</td>\n",
              "      <td>14-Jan</td>\n",
              "      <td>08:50:55</td>\n",
              "      <td>21</td>\n",
              "      <td>2014-01-13</td>\n",
              "    </tr>\n",
              "  </tbody>\n",
              "</table>\n",
              "<p>65376 rows × 19 columns</p>\n",
              "</div>\n",
              "    <div class=\"colab-df-buttons\">\n",
              "\n",
              "  <div class=\"colab-df-container\">\n",
              "    <button class=\"colab-df-convert\" onclick=\"convertToInteractive('df-7d6c770d-2dbd-475c-b94c-dc40f1a6399d')\"\n",
              "            title=\"Convert this dataframe to an interactive table.\"\n",
              "            style=\"display:none;\">\n",
              "\n",
              "  <svg xmlns=\"http://www.w3.org/2000/svg\" height=\"24px\" viewBox=\"0 -960 960 960\">\n",
              "    <path d=\"M120-120v-720h720v720H120Zm60-500h600v-160H180v160Zm220 220h160v-160H400v160Zm0 220h160v-160H400v160ZM180-400h160v-160H180v160Zm440 0h160v-160H620v160ZM180-180h160v-160H180v160Zm440 0h160v-160H620v160Z\"/>\n",
              "  </svg>\n",
              "    </button>\n",
              "\n",
              "  <style>\n",
              "    .colab-df-container {\n",
              "      display:flex;\n",
              "      gap: 12px;\n",
              "    }\n",
              "\n",
              "    .colab-df-convert {\n",
              "      background-color: #E8F0FE;\n",
              "      border: none;\n",
              "      border-radius: 50%;\n",
              "      cursor: pointer;\n",
              "      display: none;\n",
              "      fill: #1967D2;\n",
              "      height: 32px;\n",
              "      padding: 0 0 0 0;\n",
              "      width: 32px;\n",
              "    }\n",
              "\n",
              "    .colab-df-convert:hover {\n",
              "      background-color: #E2EBFA;\n",
              "      box-shadow: 0px 1px 2px rgba(60, 64, 67, 0.3), 0px 1px 3px 1px rgba(60, 64, 67, 0.15);\n",
              "      fill: #174EA6;\n",
              "    }\n",
              "\n",
              "    .colab-df-buttons div {\n",
              "      margin-bottom: 4px;\n",
              "    }\n",
              "\n",
              "    [theme=dark] .colab-df-convert {\n",
              "      background-color: #3B4455;\n",
              "      fill: #D2E3FC;\n",
              "    }\n",
              "\n",
              "    [theme=dark] .colab-df-convert:hover {\n",
              "      background-color: #434B5C;\n",
              "      box-shadow: 0px 1px 3px 1px rgba(0, 0, 0, 0.15);\n",
              "      filter: drop-shadow(0px 1px 2px rgba(0, 0, 0, 0.3));\n",
              "      fill: #FFFFFF;\n",
              "    }\n",
              "  </style>\n",
              "\n",
              "    <script>\n",
              "      const buttonEl =\n",
              "        document.querySelector('#df-7d6c770d-2dbd-475c-b94c-dc40f1a6399d button.colab-df-convert');\n",
              "      buttonEl.style.display =\n",
              "        google.colab.kernel.accessAllowed ? 'block' : 'none';\n",
              "\n",
              "      async function convertToInteractive(key) {\n",
              "        const element = document.querySelector('#df-7d6c770d-2dbd-475c-b94c-dc40f1a6399d');\n",
              "        const dataTable =\n",
              "          await google.colab.kernel.invokeFunction('convertToInteractive',\n",
              "                                                    [key], {});\n",
              "        if (!dataTable) return;\n",
              "\n",
              "        const docLinkHtml = 'Like what you see? Visit the ' +\n",
              "          '<a target=\"_blank\" href=https://colab.research.google.com/notebooks/data_table.ipynb>data table notebook</a>'\n",
              "          + ' to learn more about interactive tables.';\n",
              "        element.innerHTML = '';\n",
              "        dataTable['output_type'] = 'display_data';\n",
              "        await google.colab.output.renderOutput(dataTable, element);\n",
              "        const docLink = document.createElement('div');\n",
              "        docLink.innerHTML = docLinkHtml;\n",
              "        element.appendChild(docLink);\n",
              "      }\n",
              "    </script>\n",
              "  </div>\n",
              "\n",
              "\n",
              "<div id=\"df-2ff03faa-fc77-4d81-9f0c-ef3161b8fb02\">\n",
              "  <button class=\"colab-df-quickchart\" onclick=\"quickchart('df-2ff03faa-fc77-4d81-9f0c-ef3161b8fb02')\"\n",
              "            title=\"Suggest charts\"\n",
              "            style=\"display:none;\">\n",
              "\n",
              "<svg xmlns=\"http://www.w3.org/2000/svg\" height=\"24px\"viewBox=\"0 0 24 24\"\n",
              "     width=\"24px\">\n",
              "    <g>\n",
              "        <path d=\"M19 3H5c-1.1 0-2 .9-2 2v14c0 1.1.9 2 2 2h14c1.1 0 2-.9 2-2V5c0-1.1-.9-2-2-2zM9 17H7v-7h2v7zm4 0h-2V7h2v10zm4 0h-2v-4h2v4z\"/>\n",
              "    </g>\n",
              "</svg>\n",
              "  </button>\n",
              "\n",
              "<style>\n",
              "  .colab-df-quickchart {\n",
              "      --bg-color: #E8F0FE;\n",
              "      --fill-color: #1967D2;\n",
              "      --hover-bg-color: #E2EBFA;\n",
              "      --hover-fill-color: #174EA6;\n",
              "      --disabled-fill-color: #AAA;\n",
              "      --disabled-bg-color: #DDD;\n",
              "  }\n",
              "\n",
              "  [theme=dark] .colab-df-quickchart {\n",
              "      --bg-color: #3B4455;\n",
              "      --fill-color: #D2E3FC;\n",
              "      --hover-bg-color: #434B5C;\n",
              "      --hover-fill-color: #FFFFFF;\n",
              "      --disabled-bg-color: #3B4455;\n",
              "      --disabled-fill-color: #666;\n",
              "  }\n",
              "\n",
              "  .colab-df-quickchart {\n",
              "    background-color: var(--bg-color);\n",
              "    border: none;\n",
              "    border-radius: 50%;\n",
              "    cursor: pointer;\n",
              "    display: none;\n",
              "    fill: var(--fill-color);\n",
              "    height: 32px;\n",
              "    padding: 0;\n",
              "    width: 32px;\n",
              "  }\n",
              "\n",
              "  .colab-df-quickchart:hover {\n",
              "    background-color: var(--hover-bg-color);\n",
              "    box-shadow: 0 1px 2px rgba(60, 64, 67, 0.3), 0 1px 3px 1px rgba(60, 64, 67, 0.15);\n",
              "    fill: var(--button-hover-fill-color);\n",
              "  }\n",
              "\n",
              "  .colab-df-quickchart-complete:disabled,\n",
              "  .colab-df-quickchart-complete:disabled:hover {\n",
              "    background-color: var(--disabled-bg-color);\n",
              "    fill: var(--disabled-fill-color);\n",
              "    box-shadow: none;\n",
              "  }\n",
              "\n",
              "  .colab-df-spinner {\n",
              "    border: 2px solid var(--fill-color);\n",
              "    border-color: transparent;\n",
              "    border-bottom-color: var(--fill-color);\n",
              "    animation:\n",
              "      spin 1s steps(1) infinite;\n",
              "  }\n",
              "\n",
              "  @keyframes spin {\n",
              "    0% {\n",
              "      border-color: transparent;\n",
              "      border-bottom-color: var(--fill-color);\n",
              "      border-left-color: var(--fill-color);\n",
              "    }\n",
              "    20% {\n",
              "      border-color: transparent;\n",
              "      border-left-color: var(--fill-color);\n",
              "      border-top-color: var(--fill-color);\n",
              "    }\n",
              "    30% {\n",
              "      border-color: transparent;\n",
              "      border-left-color: var(--fill-color);\n",
              "      border-top-color: var(--fill-color);\n",
              "      border-right-color: var(--fill-color);\n",
              "    }\n",
              "    40% {\n",
              "      border-color: transparent;\n",
              "      border-right-color: var(--fill-color);\n",
              "      border-top-color: var(--fill-color);\n",
              "    }\n",
              "    60% {\n",
              "      border-color: transparent;\n",
              "      border-right-color: var(--fill-color);\n",
              "    }\n",
              "    80% {\n",
              "      border-color: transparent;\n",
              "      border-right-color: var(--fill-color);\n",
              "      border-bottom-color: var(--fill-color);\n",
              "    }\n",
              "    90% {\n",
              "      border-color: transparent;\n",
              "      border-bottom-color: var(--fill-color);\n",
              "    }\n",
              "  }\n",
              "</style>\n",
              "\n",
              "  <script>\n",
              "    async function quickchart(key) {\n",
              "      const quickchartButtonEl =\n",
              "        document.querySelector('#' + key + ' button');\n",
              "      quickchartButtonEl.disabled = true;  // To prevent multiple clicks.\n",
              "      quickchartButtonEl.classList.add('colab-df-spinner');\n",
              "      try {\n",
              "        const charts = await google.colab.kernel.invokeFunction(\n",
              "            'suggestCharts', [key], {});\n",
              "      } catch (error) {\n",
              "        console.error('Error during call to suggestCharts:', error);\n",
              "      }\n",
              "      quickchartButtonEl.classList.remove('colab-df-spinner');\n",
              "      quickchartButtonEl.classList.add('colab-df-quickchart-complete');\n",
              "    }\n",
              "    (() => {\n",
              "      let quickchartButtonEl =\n",
              "        document.querySelector('#df-2ff03faa-fc77-4d81-9f0c-ef3161b8fb02 button');\n",
              "      quickchartButtonEl.style.display =\n",
              "        google.colab.kernel.accessAllowed ? 'block' : 'none';\n",
              "    })();\n",
              "  </script>\n",
              "</div>\n",
              "\n",
              "  <div id=\"id_7cf17e17-7c20-46d9-aa7b-ba5d8ae4f1a6\">\n",
              "    <style>\n",
              "      .colab-df-generate {\n",
              "        background-color: #E8F0FE;\n",
              "        border: none;\n",
              "        border-radius: 50%;\n",
              "        cursor: pointer;\n",
              "        display: none;\n",
              "        fill: #1967D2;\n",
              "        height: 32px;\n",
              "        padding: 0 0 0 0;\n",
              "        width: 32px;\n",
              "      }\n",
              "\n",
              "      .colab-df-generate:hover {\n",
              "        background-color: #E2EBFA;\n",
              "        box-shadow: 0px 1px 2px rgba(60, 64, 67, 0.3), 0px 1px 3px 1px rgba(60, 64, 67, 0.15);\n",
              "        fill: #174EA6;\n",
              "      }\n",
              "\n",
              "      [theme=dark] .colab-df-generate {\n",
              "        background-color: #3B4455;\n",
              "        fill: #D2E3FC;\n",
              "      }\n",
              "\n",
              "      [theme=dark] .colab-df-generate:hover {\n",
              "        background-color: #434B5C;\n",
              "        box-shadow: 0px 1px 3px 1px rgba(0, 0, 0, 0.15);\n",
              "        filter: drop-shadow(0px 1px 2px rgba(0, 0, 0, 0.3));\n",
              "        fill: #FFFFFF;\n",
              "      }\n",
              "    </style>\n",
              "    <button class=\"colab-df-generate\" onclick=\"generateWithVariable('data_cleaned')\"\n",
              "            title=\"Generate code using this dataframe.\"\n",
              "            style=\"display:none;\">\n",
              "\n",
              "  <svg xmlns=\"http://www.w3.org/2000/svg\" height=\"24px\"viewBox=\"0 0 24 24\"\n",
              "       width=\"24px\">\n",
              "    <path d=\"M7,19H8.4L18.45,9,17,7.55,7,17.6ZM5,21V16.75L18.45,3.32a2,2,0,0,1,2.83,0l1.4,1.43a1.91,1.91,0,0,1,.58,1.4,1.91,1.91,0,0,1-.58,1.4L9.25,21ZM18.45,9,17,7.55Zm-12,3A5.31,5.31,0,0,0,4.9,8.1,5.31,5.31,0,0,0,1,6.5,5.31,5.31,0,0,0,4.9,4.9,5.31,5.31,0,0,0,6.5,1,5.31,5.31,0,0,0,8.1,4.9,5.31,5.31,0,0,0,12,6.5,5.46,5.46,0,0,0,6.5,12Z\"/>\n",
              "  </svg>\n",
              "    </button>\n",
              "    <script>\n",
              "      (() => {\n",
              "      const buttonEl =\n",
              "        document.querySelector('#id_7cf17e17-7c20-46d9-aa7b-ba5d8ae4f1a6 button.colab-df-generate');\n",
              "      buttonEl.style.display =\n",
              "        google.colab.kernel.accessAllowed ? 'block' : 'none';\n",
              "\n",
              "      buttonEl.onclick = () => {\n",
              "        google.colab.notebook.generateWithVariable('data_cleaned');\n",
              "      }\n",
              "      })();\n",
              "    </script>\n",
              "  </div>\n",
              "\n",
              "    </div>\n",
              "  </div>\n"
            ],
            "application/vnd.google.colaboratory.intrinsic+json": {
              "type": "dataframe",
              "variable_name": "data_cleaned",
              "summary": "{\n  \"name\": \"data_cleaned\",\n  \"rows\": 65376,\n  \"fields\": [\n    {\n      \"column\": \"Transaction_id\",\n      \"properties\": {\n        \"dtype\": \"number\",\n        \"std\": 20980,\n        \"min\": 10001,\n        \"max\": 93437,\n        \"num_unique_values\": 65376,\n        \"samples\": [\n          33332,\n          77272,\n          38310\n        ],\n        \"semantic_type\": \"\",\n        \"description\": \"\"\n      }\n    },\n    {\n      \"column\": \"customer_id\",\n      \"properties\": {\n        \"dtype\": \"number\",\n        \"std\": 333717922,\n        \"min\": 1152933280,\n        \"max\": 2305788505,\n        \"num_unique_values\": 64844,\n        \"samples\": [\n          2041086504,\n          1628572443,\n          1929423625\n        ],\n        \"semantic_type\": \"\",\n        \"description\": \"\"\n      }\n    },\n    {\n      \"column\": \"Date\",\n      \"properties\": {\n        \"dtype\": \"object\",\n        \"num_unique_values\": 115,\n        \"samples\": [\n          \"11/12/2013\",\n          \"24/09/2013\",\n          \"30/10/2013\"\n        ],\n        \"semantic_type\": \"\",\n        \"description\": \"\"\n      }\n    },\n    {\n      \"column\": \"Product\",\n      \"properties\": {\n        \"dtype\": \"category\",\n        \"num_unique_values\": 12,\n        \"samples\": [\n          \"Hair Band\",\n          \"vessels\",\n          \"spectacles\"\n        ],\n        \"semantic_type\": \"\",\n        \"description\": \"\"\n      }\n    },\n    {\n      \"column\": \"Gender\",\n      \"properties\": {\n        \"dtype\": \"category\",\n        \"num_unique_values\": 2,\n        \"samples\": [\n          \"Female\",\n          \"Male\"\n        ],\n        \"semantic_type\": \"\",\n        \"description\": \"\"\n      }\n    },\n    {\n      \"column\": \"Device_Type\",\n      \"properties\": {\n        \"dtype\": \"category\",\n        \"num_unique_values\": 2,\n        \"samples\": [\n          \"Mobile\",\n          \"Web\"\n        ],\n        \"semantic_type\": \"\",\n        \"description\": \"\"\n      }\n    },\n    {\n      \"column\": \"Country\",\n      \"properties\": {\n        \"dtype\": \"category\",\n        \"num_unique_values\": 1,\n        \"samples\": [\n          \"United States\"\n        ],\n        \"semantic_type\": \"\",\n        \"description\": \"\"\n      }\n    },\n    {\n      \"column\": \"State\",\n      \"properties\": {\n        \"dtype\": \"category\",\n        \"num_unique_values\": 3,\n        \"samples\": [\n          \"Washington\"\n        ],\n        \"semantic_type\": \"\",\n        \"description\": \"\"\n      }\n    },\n    {\n      \"column\": \"City\",\n      \"properties\": {\n        \"dtype\": \"category\",\n        \"num_unique_values\": 3,\n        \"samples\": [\n          \"Seattle\"\n        ],\n        \"semantic_type\": \"\",\n        \"description\": \"\"\n      }\n    },\n    {\n      \"column\": \"Category\",\n      \"properties\": {\n        \"dtype\": \"category\",\n        \"num_unique_values\": 8,\n        \"samples\": [\n          \"Clothing\"\n        ],\n        \"semantic_type\": \"\",\n        \"description\": \"\"\n      }\n    },\n    {\n      \"column\": \"Customer_Login_type\",\n      \"properties\": {\n        \"dtype\": \"category\",\n        \"num_unique_values\": 4,\n        \"samples\": [\n          \"Guest\"\n        ],\n        \"semantic_type\": \"\",\n        \"description\": \"\"\n      }\n    },\n    {\n      \"column\": \"Delivery_Type\",\n      \"properties\": {\n        \"dtype\": \"category\",\n        \"num_unique_values\": 2,\n        \"samples\": [\n          \"Normal Delivery\"\n        ],\n        \"semantic_type\": \"\",\n        \"description\": \"\"\n      }\n    },\n    {\n      \"column\": \"Transaction_Result\",\n      \"properties\": {\n        \"dtype\": \"number\",\n        \"std\": 0,\n        \"min\": 0,\n        \"max\": 1,\n        \"num_unique_values\": 2,\n        \"samples\": [\n          0\n        ],\n        \"semantic_type\": \"\",\n        \"description\": \"\"\n      }\n    },\n    {\n      \"column\": \"Amount US$\",\n      \"properties\": {\n        \"dtype\": \"number\",\n        \"std\": 7169.7024345731725,\n        \"min\": 0.0,\n        \"max\": 99500.0,\n        \"num_unique_values\": 11163,\n        \"samples\": [\n          4195.0\n        ],\n        \"semantic_type\": \"\",\n        \"description\": \"\"\n      }\n    },\n    {\n      \"column\": \"Individual_Price_US$\",\n      \"properties\": {\n        \"dtype\": \"number\",\n        \"std\": 439.72999424142523,\n        \"min\": 0.0,\n        \"max\": 7969.0,\n        \"num_unique_values\": 2386,\n        \"samples\": [\n          1849.0\n        ],\n        \"semantic_type\": \"\",\n        \"description\": \"\"\n      }\n    },\n    {\n      \"column\": \"Year_Month\",\n      \"properties\": {\n        \"dtype\": \"category\",\n        \"num_unique_values\": 5,\n        \"samples\": [\n          \"13-Oct\"\n        ],\n        \"semantic_type\": \"\",\n        \"description\": \"\"\n      }\n    },\n    {\n      \"column\": \"Time\",\n      \"properties\": {\n        \"dtype\": \"object\",\n        \"num_unique_values\": 45738,\n        \"samples\": [\n          \"18:54:40\"\n        ],\n        \"semantic_type\": \"\",\n        \"description\": \"\"\n      }\n    },\n    {\n      \"column\": \"Quantity\",\n      \"properties\": {\n        \"dtype\": \"number\",\n        \"std\": 3,\n        \"min\": 12,\n        \"max\": 23,\n        \"num_unique_values\": 12,\n        \"samples\": [\n          23\n        ],\n        \"semantic_type\": \"\",\n        \"description\": \"\"\n      }\n    },\n    {\n      \"column\": \"Datetime\",\n      \"properties\": {\n        \"dtype\": \"date\",\n        \"min\": \"2013-09-20 00:00:00\",\n        \"max\": \"2014-01-13 00:00:00\",\n        \"num_unique_values\": 115,\n        \"samples\": [\n          \"2013-12-11 00:00:00\"\n        ],\n        \"semantic_type\": \"\",\n        \"description\": \"\"\n      }\n    }\n  ]\n}"
            }
          },
          "metadata": {},
          "execution_count": 45
        }
      ]
    },
    {
      "cell_type": "code",
      "source": [
        "print(f\"data collection period: {data_cleaned['Datetime'].iloc[-1] - data_cleaned['Datetime'].iloc[0]}\")"
      ],
      "metadata": {
        "colab": {
          "base_uri": "https://localhost:8080/"
        },
        "id": "PHhG9FY1bODM",
        "outputId": "e150f26a-fbe2-4e69-90fd-a69645e2a0c4"
      },
      "execution_count": 46,
      "outputs": [
        {
          "output_type": "stream",
          "name": "stdout",
          "text": [
            "data collection period: 115 days 00:00:00\n"
          ]
        }
      ]
    },
    {
      "cell_type": "markdown",
      "source": [
        "We need to check when next transaction of customers happened in order to determine if it is less than 2 months. In order to achive that we create new column with next transaction of customer by shifting Datetime of each customer using groupby method."
      ],
      "metadata": {
        "id": "_hGEA_gS_8cC"
      }
    },
    {
      "cell_type": "code",
      "source": [
        "data_cleaned['next transaction']=data_cleaned.groupby('customer_id')['Datetime'].shift(-1)\n"
      ],
      "metadata": {
        "id": "Q_pCzfykfpk0"
      },
      "execution_count": 47,
      "outputs": []
    },
    {
      "cell_type": "markdown",
      "source": [
        "The new column 'days_difference' is added which represents period of time of customers between transactions."
      ],
      "metadata": {
        "id": "nAMCSSP1Agct"
      }
    },
    {
      "cell_type": "code",
      "source": [
        "data_cleaned['days_difference'] = (data_cleaned['next transaction']-data_cleaned['Datetime']).dt.days"
      ],
      "metadata": {
        "id": "eJJk8O_o8oJu"
      },
      "execution_count": 48,
      "outputs": []
    },
    {
      "cell_type": "markdown",
      "source": [
        "The new column 'output' is added which shows whether each customer's next transaction happened within 2 months (1) or not (0)."
      ],
      "metadata": {
        "id": "SAIrXLf0BTHx"
      }
    },
    {
      "cell_type": "code",
      "source": [
        "data_cleaned['output']=data_cleaned['days_difference'].apply(lambda x: 1 if x <=60  else 0)"
      ],
      "metadata": {
        "id": "cj2ppeGLWygi"
      },
      "execution_count": 49,
      "outputs": []
    },
    {
      "cell_type": "code",
      "source": [
        "data_cleaned"
      ],
      "metadata": {
        "colab": {
          "base_uri": "https://localhost:8080/",
          "height": 614
        },
        "id": "UiTFD7cvwfR9",
        "outputId": "fa6e88a9-5f21-42a6-f1f7-cb8458921563"
      },
      "execution_count": 50,
      "outputs": [
        {
          "output_type": "execute_result",
          "data": {
            "text/plain": [
              "       Transaction_id  customer_id        Date            Product  Gender  \\\n",
              "36222           10181   1272660297  20/09/2013         spectacles    Male   \n",
              "9760            10105   1714931982  20/09/2013              Shirt    Male   \n",
              "9759            10101   1939632524  20/09/2013              Shirt    Male   \n",
              "9758            10096   1325671900  20/09/2013              Shirt    Male   \n",
              "9757            10094   1883062528  20/09/2013              Shirt    Male   \n",
              "...               ...          ...         ...                ...     ...   \n",
              "24947           92748   1578329112  13/01/2014  watNew York Citys    Male   \n",
              "24948           92818   1477771542  13/01/2014  watNew York Citys    Male   \n",
              "24949           92909   1416420740  13/01/2014  watNew York Citys    Male   \n",
              "62877           93294   2113032506  13/01/2014              Shoes  Female   \n",
              "36140           93424   1347837301  13/01/2014     Fairness Cream  Female   \n",
              "\n",
              "      Device_Type        Country       State        City     Category  ...  \\\n",
              "36222         Web  United States  Washington     Seattle      Fashion  ...   \n",
              "9760          Web  United States  Washington     Seattle     Clothing  ...   \n",
              "9759          Web  United States  Washington     Seattle     Clothing  ...   \n",
              "9758          Web  United States  Washington     Seattle     Clothing  ...   \n",
              "9757          Web  United States  Washington     Seattle     Clothing  ...   \n",
              "...           ...            ...         ...         ...          ...  ...   \n",
              "24947      Mobile  United States  California  Los Angles  Electronics  ...   \n",
              "24948      Mobile  United States  California  Los Angles  Electronics  ...   \n",
              "24949      Mobile  United States  California  Los Angles  Electronics  ...   \n",
              "62877      Mobile  United States  California  Los Angles    wearables  ...   \n",
              "36140         Web  United States  California  Los Angles      Fashion  ...   \n",
              "\n",
              "      Transaction_Result Amount US$  Individual_Price_US$  Year_Month  \\\n",
              "36222                  1     2575.0                 136.0      13-Sep   \n",
              "9760                   1     6619.0                 509.0      13-Sep   \n",
              "9759                   0     4550.0                 228.0      13-Sep   \n",
              "9758                   1     1000.0                  83.0      13-Sep   \n",
              "9757                   1      420.0                  35.0      13-Sep   \n",
              "...                  ...        ...                   ...         ...   \n",
              "24947                  1     3000.0                 188.0      14-Jan   \n",
              "24948                  1     5194.0                 260.0      14-Jan   \n",
              "24949                  1     1130.0                  59.0      14-Jan   \n",
              "62877                  1        0.0                   0.0      14-Jan   \n",
              "36140                  1      100.0                   5.0      14-Jan   \n",
              "\n",
              "           Time Quantity   Datetime  next transaction days_difference output  \n",
              "36222  15:52:28       19 2013-09-20               NaT             NaN      0  \n",
              "9760   23:02:25       13 2013-09-20               NaT             NaN      0  \n",
              "9759   04:36:48       20 2013-09-20               NaT             NaN      0  \n",
              "9758   20:32:05       12 2013-09-20               NaT             NaN      0  \n",
              "9757   16:04:17       12 2013-09-20               NaT             NaN      0  \n",
              "...         ...      ...        ...               ...             ...    ...  \n",
              "24947  23:31:09       16 2014-01-13               NaT             NaN      0  \n",
              "24948  16:51:46       20 2014-01-13               NaT             NaN      0  \n",
              "24949  19:41:17       19 2014-01-13               NaT             NaN      0  \n",
              "62877  02:24:56       12 2014-01-13               NaT             NaN      0  \n",
              "36140  08:50:55       21 2014-01-13               NaT             NaN      0  \n",
              "\n",
              "[65376 rows x 22 columns]"
            ],
            "text/html": [
              "\n",
              "  <div id=\"df-3ea43606-6aa2-4a05-a5a3-63492ec0272b\" class=\"colab-df-container\">\n",
              "    <div>\n",
              "<style scoped>\n",
              "    .dataframe tbody tr th:only-of-type {\n",
              "        vertical-align: middle;\n",
              "    }\n",
              "\n",
              "    .dataframe tbody tr th {\n",
              "        vertical-align: top;\n",
              "    }\n",
              "\n",
              "    .dataframe thead th {\n",
              "        text-align: right;\n",
              "    }\n",
              "</style>\n",
              "<table border=\"1\" class=\"dataframe\">\n",
              "  <thead>\n",
              "    <tr style=\"text-align: right;\">\n",
              "      <th></th>\n",
              "      <th>Transaction_id</th>\n",
              "      <th>customer_id</th>\n",
              "      <th>Date</th>\n",
              "      <th>Product</th>\n",
              "      <th>Gender</th>\n",
              "      <th>Device_Type</th>\n",
              "      <th>Country</th>\n",
              "      <th>State</th>\n",
              "      <th>City</th>\n",
              "      <th>Category</th>\n",
              "      <th>...</th>\n",
              "      <th>Transaction_Result</th>\n",
              "      <th>Amount US$</th>\n",
              "      <th>Individual_Price_US$</th>\n",
              "      <th>Year_Month</th>\n",
              "      <th>Time</th>\n",
              "      <th>Quantity</th>\n",
              "      <th>Datetime</th>\n",
              "      <th>next transaction</th>\n",
              "      <th>days_difference</th>\n",
              "      <th>output</th>\n",
              "    </tr>\n",
              "  </thead>\n",
              "  <tbody>\n",
              "    <tr>\n",
              "      <th>36222</th>\n",
              "      <td>10181</td>\n",
              "      <td>1272660297</td>\n",
              "      <td>20/09/2013</td>\n",
              "      <td>spectacles</td>\n",
              "      <td>Male</td>\n",
              "      <td>Web</td>\n",
              "      <td>United States</td>\n",
              "      <td>Washington</td>\n",
              "      <td>Seattle</td>\n",
              "      <td>Fashion</td>\n",
              "      <td>...</td>\n",
              "      <td>1</td>\n",
              "      <td>2575.0</td>\n",
              "      <td>136.0</td>\n",
              "      <td>13-Sep</td>\n",
              "      <td>15:52:28</td>\n",
              "      <td>19</td>\n",
              "      <td>2013-09-20</td>\n",
              "      <td>NaT</td>\n",
              "      <td>NaN</td>\n",
              "      <td>0</td>\n",
              "    </tr>\n",
              "    <tr>\n",
              "      <th>9760</th>\n",
              "      <td>10105</td>\n",
              "      <td>1714931982</td>\n",
              "      <td>20/09/2013</td>\n",
              "      <td>Shirt</td>\n",
              "      <td>Male</td>\n",
              "      <td>Web</td>\n",
              "      <td>United States</td>\n",
              "      <td>Washington</td>\n",
              "      <td>Seattle</td>\n",
              "      <td>Clothing</td>\n",
              "      <td>...</td>\n",
              "      <td>1</td>\n",
              "      <td>6619.0</td>\n",
              "      <td>509.0</td>\n",
              "      <td>13-Sep</td>\n",
              "      <td>23:02:25</td>\n",
              "      <td>13</td>\n",
              "      <td>2013-09-20</td>\n",
              "      <td>NaT</td>\n",
              "      <td>NaN</td>\n",
              "      <td>0</td>\n",
              "    </tr>\n",
              "    <tr>\n",
              "      <th>9759</th>\n",
              "      <td>10101</td>\n",
              "      <td>1939632524</td>\n",
              "      <td>20/09/2013</td>\n",
              "      <td>Shirt</td>\n",
              "      <td>Male</td>\n",
              "      <td>Web</td>\n",
              "      <td>United States</td>\n",
              "      <td>Washington</td>\n",
              "      <td>Seattle</td>\n",
              "      <td>Clothing</td>\n",
              "      <td>...</td>\n",
              "      <td>0</td>\n",
              "      <td>4550.0</td>\n",
              "      <td>228.0</td>\n",
              "      <td>13-Sep</td>\n",
              "      <td>04:36:48</td>\n",
              "      <td>20</td>\n",
              "      <td>2013-09-20</td>\n",
              "      <td>NaT</td>\n",
              "      <td>NaN</td>\n",
              "      <td>0</td>\n",
              "    </tr>\n",
              "    <tr>\n",
              "      <th>9758</th>\n",
              "      <td>10096</td>\n",
              "      <td>1325671900</td>\n",
              "      <td>20/09/2013</td>\n",
              "      <td>Shirt</td>\n",
              "      <td>Male</td>\n",
              "      <td>Web</td>\n",
              "      <td>United States</td>\n",
              "      <td>Washington</td>\n",
              "      <td>Seattle</td>\n",
              "      <td>Clothing</td>\n",
              "      <td>...</td>\n",
              "      <td>1</td>\n",
              "      <td>1000.0</td>\n",
              "      <td>83.0</td>\n",
              "      <td>13-Sep</td>\n",
              "      <td>20:32:05</td>\n",
              "      <td>12</td>\n",
              "      <td>2013-09-20</td>\n",
              "      <td>NaT</td>\n",
              "      <td>NaN</td>\n",
              "      <td>0</td>\n",
              "    </tr>\n",
              "    <tr>\n",
              "      <th>9757</th>\n",
              "      <td>10094</td>\n",
              "      <td>1883062528</td>\n",
              "      <td>20/09/2013</td>\n",
              "      <td>Shirt</td>\n",
              "      <td>Male</td>\n",
              "      <td>Web</td>\n",
              "      <td>United States</td>\n",
              "      <td>Washington</td>\n",
              "      <td>Seattle</td>\n",
              "      <td>Clothing</td>\n",
              "      <td>...</td>\n",
              "      <td>1</td>\n",
              "      <td>420.0</td>\n",
              "      <td>35.0</td>\n",
              "      <td>13-Sep</td>\n",
              "      <td>16:04:17</td>\n",
              "      <td>12</td>\n",
              "      <td>2013-09-20</td>\n",
              "      <td>NaT</td>\n",
              "      <td>NaN</td>\n",
              "      <td>0</td>\n",
              "    </tr>\n",
              "    <tr>\n",
              "      <th>...</th>\n",
              "      <td>...</td>\n",
              "      <td>...</td>\n",
              "      <td>...</td>\n",
              "      <td>...</td>\n",
              "      <td>...</td>\n",
              "      <td>...</td>\n",
              "      <td>...</td>\n",
              "      <td>...</td>\n",
              "      <td>...</td>\n",
              "      <td>...</td>\n",
              "      <td>...</td>\n",
              "      <td>...</td>\n",
              "      <td>...</td>\n",
              "      <td>...</td>\n",
              "      <td>...</td>\n",
              "      <td>...</td>\n",
              "      <td>...</td>\n",
              "      <td>...</td>\n",
              "      <td>...</td>\n",
              "      <td>...</td>\n",
              "      <td>...</td>\n",
              "    </tr>\n",
              "    <tr>\n",
              "      <th>24947</th>\n",
              "      <td>92748</td>\n",
              "      <td>1578329112</td>\n",
              "      <td>13/01/2014</td>\n",
              "      <td>watNew York Citys</td>\n",
              "      <td>Male</td>\n",
              "      <td>Mobile</td>\n",
              "      <td>United States</td>\n",
              "      <td>California</td>\n",
              "      <td>Los Angles</td>\n",
              "      <td>Electronics</td>\n",
              "      <td>...</td>\n",
              "      <td>1</td>\n",
              "      <td>3000.0</td>\n",
              "      <td>188.0</td>\n",
              "      <td>14-Jan</td>\n",
              "      <td>23:31:09</td>\n",
              "      <td>16</td>\n",
              "      <td>2014-01-13</td>\n",
              "      <td>NaT</td>\n",
              "      <td>NaN</td>\n",
              "      <td>0</td>\n",
              "    </tr>\n",
              "    <tr>\n",
              "      <th>24948</th>\n",
              "      <td>92818</td>\n",
              "      <td>1477771542</td>\n",
              "      <td>13/01/2014</td>\n",
              "      <td>watNew York Citys</td>\n",
              "      <td>Male</td>\n",
              "      <td>Mobile</td>\n",
              "      <td>United States</td>\n",
              "      <td>California</td>\n",
              "      <td>Los Angles</td>\n",
              "      <td>Electronics</td>\n",
              "      <td>...</td>\n",
              "      <td>1</td>\n",
              "      <td>5194.0</td>\n",
              "      <td>260.0</td>\n",
              "      <td>14-Jan</td>\n",
              "      <td>16:51:46</td>\n",
              "      <td>20</td>\n",
              "      <td>2014-01-13</td>\n",
              "      <td>NaT</td>\n",
              "      <td>NaN</td>\n",
              "      <td>0</td>\n",
              "    </tr>\n",
              "    <tr>\n",
              "      <th>24949</th>\n",
              "      <td>92909</td>\n",
              "      <td>1416420740</td>\n",
              "      <td>13/01/2014</td>\n",
              "      <td>watNew York Citys</td>\n",
              "      <td>Male</td>\n",
              "      <td>Mobile</td>\n",
              "      <td>United States</td>\n",
              "      <td>California</td>\n",
              "      <td>Los Angles</td>\n",
              "      <td>Electronics</td>\n",
              "      <td>...</td>\n",
              "      <td>1</td>\n",
              "      <td>1130.0</td>\n",
              "      <td>59.0</td>\n",
              "      <td>14-Jan</td>\n",
              "      <td>19:41:17</td>\n",
              "      <td>19</td>\n",
              "      <td>2014-01-13</td>\n",
              "      <td>NaT</td>\n",
              "      <td>NaN</td>\n",
              "      <td>0</td>\n",
              "    </tr>\n",
              "    <tr>\n",
              "      <th>62877</th>\n",
              "      <td>93294</td>\n",
              "      <td>2113032506</td>\n",
              "      <td>13/01/2014</td>\n",
              "      <td>Shoes</td>\n",
              "      <td>Female</td>\n",
              "      <td>Mobile</td>\n",
              "      <td>United States</td>\n",
              "      <td>California</td>\n",
              "      <td>Los Angles</td>\n",
              "      <td>wearables</td>\n",
              "      <td>...</td>\n",
              "      <td>1</td>\n",
              "      <td>0.0</td>\n",
              "      <td>0.0</td>\n",
              "      <td>14-Jan</td>\n",
              "      <td>02:24:56</td>\n",
              "      <td>12</td>\n",
              "      <td>2014-01-13</td>\n",
              "      <td>NaT</td>\n",
              "      <td>NaN</td>\n",
              "      <td>0</td>\n",
              "    </tr>\n",
              "    <tr>\n",
              "      <th>36140</th>\n",
              "      <td>93424</td>\n",
              "      <td>1347837301</td>\n",
              "      <td>13/01/2014</td>\n",
              "      <td>Fairness Cream</td>\n",
              "      <td>Female</td>\n",
              "      <td>Web</td>\n",
              "      <td>United States</td>\n",
              "      <td>California</td>\n",
              "      <td>Los Angles</td>\n",
              "      <td>Fashion</td>\n",
              "      <td>...</td>\n",
              "      <td>1</td>\n",
              "      <td>100.0</td>\n",
              "      <td>5.0</td>\n",
              "      <td>14-Jan</td>\n",
              "      <td>08:50:55</td>\n",
              "      <td>21</td>\n",
              "      <td>2014-01-13</td>\n",
              "      <td>NaT</td>\n",
              "      <td>NaN</td>\n",
              "      <td>0</td>\n",
              "    </tr>\n",
              "  </tbody>\n",
              "</table>\n",
              "<p>65376 rows × 22 columns</p>\n",
              "</div>\n",
              "    <div class=\"colab-df-buttons\">\n",
              "\n",
              "  <div class=\"colab-df-container\">\n",
              "    <button class=\"colab-df-convert\" onclick=\"convertToInteractive('df-3ea43606-6aa2-4a05-a5a3-63492ec0272b')\"\n",
              "            title=\"Convert this dataframe to an interactive table.\"\n",
              "            style=\"display:none;\">\n",
              "\n",
              "  <svg xmlns=\"http://www.w3.org/2000/svg\" height=\"24px\" viewBox=\"0 -960 960 960\">\n",
              "    <path d=\"M120-120v-720h720v720H120Zm60-500h600v-160H180v160Zm220 220h160v-160H400v160Zm0 220h160v-160H400v160ZM180-400h160v-160H180v160Zm440 0h160v-160H620v160ZM180-180h160v-160H180v160Zm440 0h160v-160H620v160Z\"/>\n",
              "  </svg>\n",
              "    </button>\n",
              "\n",
              "  <style>\n",
              "    .colab-df-container {\n",
              "      display:flex;\n",
              "      gap: 12px;\n",
              "    }\n",
              "\n",
              "    .colab-df-convert {\n",
              "      background-color: #E8F0FE;\n",
              "      border: none;\n",
              "      border-radius: 50%;\n",
              "      cursor: pointer;\n",
              "      display: none;\n",
              "      fill: #1967D2;\n",
              "      height: 32px;\n",
              "      padding: 0 0 0 0;\n",
              "      width: 32px;\n",
              "    }\n",
              "\n",
              "    .colab-df-convert:hover {\n",
              "      background-color: #E2EBFA;\n",
              "      box-shadow: 0px 1px 2px rgba(60, 64, 67, 0.3), 0px 1px 3px 1px rgba(60, 64, 67, 0.15);\n",
              "      fill: #174EA6;\n",
              "    }\n",
              "\n",
              "    .colab-df-buttons div {\n",
              "      margin-bottom: 4px;\n",
              "    }\n",
              "\n",
              "    [theme=dark] .colab-df-convert {\n",
              "      background-color: #3B4455;\n",
              "      fill: #D2E3FC;\n",
              "    }\n",
              "\n",
              "    [theme=dark] .colab-df-convert:hover {\n",
              "      background-color: #434B5C;\n",
              "      box-shadow: 0px 1px 3px 1px rgba(0, 0, 0, 0.15);\n",
              "      filter: drop-shadow(0px 1px 2px rgba(0, 0, 0, 0.3));\n",
              "      fill: #FFFFFF;\n",
              "    }\n",
              "  </style>\n",
              "\n",
              "    <script>\n",
              "      const buttonEl =\n",
              "        document.querySelector('#df-3ea43606-6aa2-4a05-a5a3-63492ec0272b button.colab-df-convert');\n",
              "      buttonEl.style.display =\n",
              "        google.colab.kernel.accessAllowed ? 'block' : 'none';\n",
              "\n",
              "      async function convertToInteractive(key) {\n",
              "        const element = document.querySelector('#df-3ea43606-6aa2-4a05-a5a3-63492ec0272b');\n",
              "        const dataTable =\n",
              "          await google.colab.kernel.invokeFunction('convertToInteractive',\n",
              "                                                    [key], {});\n",
              "        if (!dataTable) return;\n",
              "\n",
              "        const docLinkHtml = 'Like what you see? Visit the ' +\n",
              "          '<a target=\"_blank\" href=https://colab.research.google.com/notebooks/data_table.ipynb>data table notebook</a>'\n",
              "          + ' to learn more about interactive tables.';\n",
              "        element.innerHTML = '';\n",
              "        dataTable['output_type'] = 'display_data';\n",
              "        await google.colab.output.renderOutput(dataTable, element);\n",
              "        const docLink = document.createElement('div');\n",
              "        docLink.innerHTML = docLinkHtml;\n",
              "        element.appendChild(docLink);\n",
              "      }\n",
              "    </script>\n",
              "  </div>\n",
              "\n",
              "\n",
              "<div id=\"df-fb453a53-189f-4b89-836a-1560815a31be\">\n",
              "  <button class=\"colab-df-quickchart\" onclick=\"quickchart('df-fb453a53-189f-4b89-836a-1560815a31be')\"\n",
              "            title=\"Suggest charts\"\n",
              "            style=\"display:none;\">\n",
              "\n",
              "<svg xmlns=\"http://www.w3.org/2000/svg\" height=\"24px\"viewBox=\"0 0 24 24\"\n",
              "     width=\"24px\">\n",
              "    <g>\n",
              "        <path d=\"M19 3H5c-1.1 0-2 .9-2 2v14c0 1.1.9 2 2 2h14c1.1 0 2-.9 2-2V5c0-1.1-.9-2-2-2zM9 17H7v-7h2v7zm4 0h-2V7h2v10zm4 0h-2v-4h2v4z\"/>\n",
              "    </g>\n",
              "</svg>\n",
              "  </button>\n",
              "\n",
              "<style>\n",
              "  .colab-df-quickchart {\n",
              "      --bg-color: #E8F0FE;\n",
              "      --fill-color: #1967D2;\n",
              "      --hover-bg-color: #E2EBFA;\n",
              "      --hover-fill-color: #174EA6;\n",
              "      --disabled-fill-color: #AAA;\n",
              "      --disabled-bg-color: #DDD;\n",
              "  }\n",
              "\n",
              "  [theme=dark] .colab-df-quickchart {\n",
              "      --bg-color: #3B4455;\n",
              "      --fill-color: #D2E3FC;\n",
              "      --hover-bg-color: #434B5C;\n",
              "      --hover-fill-color: #FFFFFF;\n",
              "      --disabled-bg-color: #3B4455;\n",
              "      --disabled-fill-color: #666;\n",
              "  }\n",
              "\n",
              "  .colab-df-quickchart {\n",
              "    background-color: var(--bg-color);\n",
              "    border: none;\n",
              "    border-radius: 50%;\n",
              "    cursor: pointer;\n",
              "    display: none;\n",
              "    fill: var(--fill-color);\n",
              "    height: 32px;\n",
              "    padding: 0;\n",
              "    width: 32px;\n",
              "  }\n",
              "\n",
              "  .colab-df-quickchart:hover {\n",
              "    background-color: var(--hover-bg-color);\n",
              "    box-shadow: 0 1px 2px rgba(60, 64, 67, 0.3), 0 1px 3px 1px rgba(60, 64, 67, 0.15);\n",
              "    fill: var(--button-hover-fill-color);\n",
              "  }\n",
              "\n",
              "  .colab-df-quickchart-complete:disabled,\n",
              "  .colab-df-quickchart-complete:disabled:hover {\n",
              "    background-color: var(--disabled-bg-color);\n",
              "    fill: var(--disabled-fill-color);\n",
              "    box-shadow: none;\n",
              "  }\n",
              "\n",
              "  .colab-df-spinner {\n",
              "    border: 2px solid var(--fill-color);\n",
              "    border-color: transparent;\n",
              "    border-bottom-color: var(--fill-color);\n",
              "    animation:\n",
              "      spin 1s steps(1) infinite;\n",
              "  }\n",
              "\n",
              "  @keyframes spin {\n",
              "    0% {\n",
              "      border-color: transparent;\n",
              "      border-bottom-color: var(--fill-color);\n",
              "      border-left-color: var(--fill-color);\n",
              "    }\n",
              "    20% {\n",
              "      border-color: transparent;\n",
              "      border-left-color: var(--fill-color);\n",
              "      border-top-color: var(--fill-color);\n",
              "    }\n",
              "    30% {\n",
              "      border-color: transparent;\n",
              "      border-left-color: var(--fill-color);\n",
              "      border-top-color: var(--fill-color);\n",
              "      border-right-color: var(--fill-color);\n",
              "    }\n",
              "    40% {\n",
              "      border-color: transparent;\n",
              "      border-right-color: var(--fill-color);\n",
              "      border-top-color: var(--fill-color);\n",
              "    }\n",
              "    60% {\n",
              "      border-color: transparent;\n",
              "      border-right-color: var(--fill-color);\n",
              "    }\n",
              "    80% {\n",
              "      border-color: transparent;\n",
              "      border-right-color: var(--fill-color);\n",
              "      border-bottom-color: var(--fill-color);\n",
              "    }\n",
              "    90% {\n",
              "      border-color: transparent;\n",
              "      border-bottom-color: var(--fill-color);\n",
              "    }\n",
              "  }\n",
              "</style>\n",
              "\n",
              "  <script>\n",
              "    async function quickchart(key) {\n",
              "      const quickchartButtonEl =\n",
              "        document.querySelector('#' + key + ' button');\n",
              "      quickchartButtonEl.disabled = true;  // To prevent multiple clicks.\n",
              "      quickchartButtonEl.classList.add('colab-df-spinner');\n",
              "      try {\n",
              "        const charts = await google.colab.kernel.invokeFunction(\n",
              "            'suggestCharts', [key], {});\n",
              "      } catch (error) {\n",
              "        console.error('Error during call to suggestCharts:', error);\n",
              "      }\n",
              "      quickchartButtonEl.classList.remove('colab-df-spinner');\n",
              "      quickchartButtonEl.classList.add('colab-df-quickchart-complete');\n",
              "    }\n",
              "    (() => {\n",
              "      let quickchartButtonEl =\n",
              "        document.querySelector('#df-fb453a53-189f-4b89-836a-1560815a31be button');\n",
              "      quickchartButtonEl.style.display =\n",
              "        google.colab.kernel.accessAllowed ? 'block' : 'none';\n",
              "    })();\n",
              "  </script>\n",
              "</div>\n",
              "\n",
              "  <div id=\"id_0e98e4c9-c0aa-4b80-9e98-bd7f318235a8\">\n",
              "    <style>\n",
              "      .colab-df-generate {\n",
              "        background-color: #E8F0FE;\n",
              "        border: none;\n",
              "        border-radius: 50%;\n",
              "        cursor: pointer;\n",
              "        display: none;\n",
              "        fill: #1967D2;\n",
              "        height: 32px;\n",
              "        padding: 0 0 0 0;\n",
              "        width: 32px;\n",
              "      }\n",
              "\n",
              "      .colab-df-generate:hover {\n",
              "        background-color: #E2EBFA;\n",
              "        box-shadow: 0px 1px 2px rgba(60, 64, 67, 0.3), 0px 1px 3px 1px rgba(60, 64, 67, 0.15);\n",
              "        fill: #174EA6;\n",
              "      }\n",
              "\n",
              "      [theme=dark] .colab-df-generate {\n",
              "        background-color: #3B4455;\n",
              "        fill: #D2E3FC;\n",
              "      }\n",
              "\n",
              "      [theme=dark] .colab-df-generate:hover {\n",
              "        background-color: #434B5C;\n",
              "        box-shadow: 0px 1px 3px 1px rgba(0, 0, 0, 0.15);\n",
              "        filter: drop-shadow(0px 1px 2px rgba(0, 0, 0, 0.3));\n",
              "        fill: #FFFFFF;\n",
              "      }\n",
              "    </style>\n",
              "    <button class=\"colab-df-generate\" onclick=\"generateWithVariable('data_cleaned')\"\n",
              "            title=\"Generate code using this dataframe.\"\n",
              "            style=\"display:none;\">\n",
              "\n",
              "  <svg xmlns=\"http://www.w3.org/2000/svg\" height=\"24px\"viewBox=\"0 0 24 24\"\n",
              "       width=\"24px\">\n",
              "    <path d=\"M7,19H8.4L18.45,9,17,7.55,7,17.6ZM5,21V16.75L18.45,3.32a2,2,0,0,1,2.83,0l1.4,1.43a1.91,1.91,0,0,1,.58,1.4,1.91,1.91,0,0,1-.58,1.4L9.25,21ZM18.45,9,17,7.55Zm-12,3A5.31,5.31,0,0,0,4.9,8.1,5.31,5.31,0,0,0,1,6.5,5.31,5.31,0,0,0,4.9,4.9,5.31,5.31,0,0,0,6.5,1,5.31,5.31,0,0,0,8.1,4.9,5.31,5.31,0,0,0,12,6.5,5.46,5.46,0,0,0,6.5,12Z\"/>\n",
              "  </svg>\n",
              "    </button>\n",
              "    <script>\n",
              "      (() => {\n",
              "      const buttonEl =\n",
              "        document.querySelector('#id_0e98e4c9-c0aa-4b80-9e98-bd7f318235a8 button.colab-df-generate');\n",
              "      buttonEl.style.display =\n",
              "        google.colab.kernel.accessAllowed ? 'block' : 'none';\n",
              "\n",
              "      buttonEl.onclick = () => {\n",
              "        google.colab.notebook.generateWithVariable('data_cleaned');\n",
              "      }\n",
              "      })();\n",
              "    </script>\n",
              "  </div>\n",
              "\n",
              "    </div>\n",
              "  </div>\n"
            ],
            "application/vnd.google.colaboratory.intrinsic+json": {
              "type": "dataframe",
              "variable_name": "data_cleaned"
            }
          },
          "metadata": {},
          "execution_count": 50
        }
      ]
    },
    {
      "cell_type": "markdown",
      "source": [
        "In this dataset 'output' value which is 1 means if next transaction is within 60 days, 0 otherwise (including if no next transaction)"
      ],
      "metadata": {
        "id": "UQicismLw2id"
      }
    },
    {
      "cell_type": "markdown",
      "source": [
        "Let's check how many samples exist in each class"
      ],
      "metadata": {
        "id": "t3nPLORA4eA0"
      }
    },
    {
      "cell_type": "code",
      "source": [
        "print(f\"Number of samples: {len(data_cleaned)}\")\n",
        "print(f\"Number of transactions happened after 2 months: {data_cleaned['output'].sum()}\")"
      ],
      "metadata": {
        "colab": {
          "base_uri": "https://localhost:8080/"
        },
        "id": "w893Kmmy4iJ3",
        "outputId": "90b7c412-fcb9-4ac5-dab6-9ec17175e721"
      },
      "execution_count": 51,
      "outputs": [
        {
          "output_type": "stream",
          "name": "stdout",
          "text": [
            "Number of samples: 65376\n",
            "Number of transactions happened after 2 months: 506\n"
          ]
        }
      ]
    },
    {
      "cell_type": "markdown",
      "source": [
        "There is a big imbalance seen between two classes. Over 65376 samples only 26 samples belong to customers did purchase within 2 months. Training ML model with such highly imbalanced dataset can result in different problems:\n",
        "\n",
        "*   The model will likely become biased towared the majerity class (customers haven't done next transaction in 2 months), At the result, the model might predict the majority class most of the time, ignoring the minority class\n",
        "*   This can cause to high accuracy but lower performance on the minority class. It means that common metrics can be misleading.\n",
        "\n"
      ],
      "metadata": {
        "id": "DyZYXMkaBrtp"
      }
    },
    {
      "cell_type": "markdown",
      "source": [
        "New dataset with following selected columns is chosen to train model: 'Product', 'Gender',\n",
        "       'Device_Type', 'Country', 'State', 'City', 'Category',\n",
        "       'Customer_Login_type', 'Delivery_Type', 'Transaction_Result',\n",
        "       'Amount US$', 'Individual_Price_US$', 'Quantity', 'output'"
      ],
      "metadata": {
        "id": "zOqBCpDkDcCE"
      }
    },
    {
      "cell_type": "code",
      "source": [
        "features = ['Product', 'Gender',\n",
        "       'Device_Type', 'Country', 'State', 'City', 'Category',\n",
        "       'Customer_Login_type', 'Delivery_Type', 'Transaction_Result',\n",
        "       'Amount US$', 'Individual_Price_US$', 'Quantity', 'output']"
      ],
      "metadata": {
        "id": "xqPllquxP07i"
      },
      "execution_count": 52,
      "outputs": []
    },
    {
      "cell_type": "code",
      "source": [
        "dataset = data_cleaned[features]"
      ],
      "metadata": {
        "id": "2377oMNbTetc"
      },
      "execution_count": 53,
      "outputs": []
    },
    {
      "cell_type": "code",
      "source": [
        "dataset = dataset.dropna()"
      ],
      "metadata": {
        "id": "1pBUl7ZvzKE4"
      },
      "execution_count": 54,
      "outputs": []
    },
    {
      "cell_type": "markdown",
      "source": [
        "Let's check how many samples exist in each class after removing rows with NaN values"
      ],
      "metadata": {
        "id": "FMrQhMgv5f87"
      }
    },
    {
      "cell_type": "code",
      "source": [
        "print(f\"Number of samples: {len(dataset)}\")\n",
        "print(f\"Number of transactions happened after 2 months: {dataset['output'].sum()}\")"
      ],
      "metadata": {
        "colab": {
          "base_uri": "https://localhost:8080/"
        },
        "id": "d8Oelo-BSM5D",
        "outputId": "28fc537f-9e9d-4952-8717-aac89d500ac9"
      },
      "execution_count": 55,
      "outputs": [
        {
          "output_type": "stream",
          "name": "stdout",
          "text": [
            "Number of samples: 65375\n",
            "Number of transactions happened after 2 months: 506\n"
          ]
        }
      ]
    },
    {
      "cell_type": "markdown",
      "source": [
        "### Data Preparation for model training, - Feature Engineering###"
      ],
      "metadata": {
        "id": "WlK_dz2EHxnd"
      }
    },
    {
      "cell_type": "markdown",
      "source": [
        "Some machine learning models can be sensitive to the magnitude of the features. That's why 'Amount US', 'Individual_Price_US', 'Quantity' columns are rescaled using StandardScaler method of scikit-learn."
      ],
      "metadata": {
        "id": "oDKx3cYfGdob"
      }
    },
    {
      "cell_type": "code",
      "source": [
        "from sklearn.preprocessing import StandardScaler\n",
        "\n",
        "scaler = StandardScaler()\n",
        "columns_to_scale = ['Amount US$', 'Individual_Price_US$', 'Quantity']\n",
        "\n",
        "dataset[columns_to_scale] = scaler.fit_transform(dataset[columns_to_scale])"
      ],
      "metadata": {
        "id": "ZiYpl5_53Uke"
      },
      "execution_count": 56,
      "outputs": []
    },
    {
      "cell_type": "markdown",
      "source": [
        "Input and output data for model training:"
      ],
      "metadata": {
        "id": "NL528WbSHK3A"
      }
    },
    {
      "cell_type": "code",
      "source": [
        "x = dataset[['Product', 'Gender',\n",
        "       'Device_Type', 'Country', 'State', 'City', 'Category',\n",
        "       'Customer_Login_type', 'Delivery_Type', 'Transaction_Result',\n",
        "       'Amount US$', 'Individual_Price_US$', 'Quantity']]\n",
        "y = dataset['output']"
      ],
      "metadata": {
        "id": "6p-CTFKut4Cq"
      },
      "execution_count": 57,
      "outputs": []
    },
    {
      "cell_type": "markdown",
      "source": [
        "Some columns in dataset contains categorical variables and built-in One-hot encoding method of Pandas is used for conversion."
      ],
      "metadata": {
        "id": "FaIp9vpQITp0"
      }
    },
    {
      "cell_type": "code",
      "source": [
        "x = pd.get_dummies(data=x)"
      ],
      "metadata": {
        "id": "gzJstQnWU5ns"
      },
      "execution_count": 58,
      "outputs": []
    },
    {
      "cell_type": "code",
      "source": [
        "x.columns"
      ],
      "metadata": {
        "colab": {
          "base_uri": "https://localhost:8080/"
        },
        "id": "QNa5mdduCEep",
        "outputId": "5aba345e-0d71-4331-d17a-0a4ee148fa9e"
      },
      "execution_count": 79,
      "outputs": [
        {
          "output_type": "execute_result",
          "data": {
            "text/plain": [
              "Index(['Transaction_Result', 'Amount US$', 'Individual_Price_US$', 'Quantity',\n",
              "       'Product_Bag', 'Product_Books', 'Product_Cycle',\n",
              "       'Product_Fairness Cream', 'Product_Hair Band', 'Product_Jean',\n",
              "       'Product_Pen Drive', 'Product_Shirt', 'Product_Shoes',\n",
              "       'Product_spectacles', 'Product_vessels', 'Product_watNew York Citys',\n",
              "       'Gender_Female', 'Gender_Male', 'Device_Type_Mobile', 'Device_Type_Web',\n",
              "       'Country_United States', 'State_California', 'State_New York',\n",
              "       'State_Washington', 'City_Los Angles', 'City_New York City',\n",
              "       'City_Seattle', 'Category_Accessories', 'Category_Clothing',\n",
              "       'Category_Electronics', 'Category_Fashion', 'Category_House hold',\n",
              "       'Category_Vehicle', 'Category_stationaries', 'Category_wearables',\n",
              "       'Customer_Login_type_First SignUp', 'Customer_Login_type_Guest',\n",
              "       'Customer_Login_type_Member', 'Customer_Login_type_New ',\n",
              "       'Delivery_Type_Normal Delivery', 'Delivery_Type_one-day deliver'],\n",
              "      dtype='object')"
            ]
          },
          "metadata": {},
          "execution_count": 79
        }
      ]
    },
    {
      "cell_type": "markdown",
      "source": [
        "Train and test split of datasets:"
      ],
      "metadata": {
        "id": "guqObDThI5gS"
      }
    },
    {
      "cell_type": "code",
      "source": [
        "from sklearn.model_selection import train_test_split\n",
        "X_train, X_test, y_train, y_test = train_test_split(\n",
        "    x, y, test_size=0.33, random_state=42)"
      ],
      "metadata": {
        "id": "stZ1sT3svw8I"
      },
      "execution_count": 59,
      "outputs": []
    },
    {
      "cell_type": "markdown",
      "source": [
        "### Training of first model - Random Forest Classifier with unbalanced dataset ###"
      ],
      "metadata": {
        "id": "D2r5V4nZ6agU"
      }
    },
    {
      "cell_type": "code",
      "source": [
        "from sklearn.ensemble import RandomForestClassifier\n",
        "from sklearn.metrics import classification_report, accuracy_score\n",
        "\n",
        "model = RandomForestClassifier(random_state=42)\n",
        "model.fit(X_train, y_train)\n",
        "\n",
        "y_pred = model.predict(X_test)\n",
        "\n",
        "accuracy = accuracy_score(y_test, y_pred)\n",
        "target_names = ['class 0', 'class 1']\n",
        "classification_report_output = classification_report(y_test, y_pred, target_names=target_names)\n"
      ],
      "metadata": {
        "id": "1j9aeaStvw_5"
      },
      "execution_count": 60,
      "outputs": []
    },
    {
      "cell_type": "code",
      "source": [
        "print(f\"Accuracy of Random Forest classifier: {accuracy}\")"
      ],
      "metadata": {
        "colab": {
          "base_uri": "https://localhost:8080/"
        },
        "id": "mbiIc_Fhzog8",
        "outputId": "dc032844-de4a-40d8-d039-6f8b4bf513fe"
      },
      "execution_count": 61,
      "outputs": [
        {
          "output_type": "stream",
          "name": "stdout",
          "text": [
            "Accuracy of Random Forest classifier: 0.9910540465374988\n"
          ]
        }
      ]
    },
    {
      "cell_type": "code",
      "source": [
        "print(classification_report_output)"
      ],
      "metadata": {
        "colab": {
          "base_uri": "https://localhost:8080/"
        },
        "id": "er3mUDrUE4MA",
        "outputId": "ce9d2496-095d-426c-a01a-dd0f463af077"
      },
      "execution_count": 62,
      "outputs": [
        {
          "output_type": "stream",
          "name": "stdout",
          "text": [
            "              precision    recall  f1-score   support\n",
            "\n",
            "     class 0       0.99      1.00      1.00     21389\n",
            "     class 1       0.39      0.08      0.13       185\n",
            "\n",
            "    accuracy                           0.99     21574\n",
            "   macro avg       0.69      0.54      0.56     21574\n",
            "weighted avg       0.99      0.99      0.99     21574\n",
            "\n"
          ]
        }
      ]
    },
    {
      "cell_type": "markdown",
      "source": [
        "### Balancing dataset by resampling ###"
      ],
      "metadata": {
        "id": "xOZ2r8N463Qb"
      }
    },
    {
      "cell_type": "markdown",
      "source": [
        "As our dataset is imbalanced, the metrics for trained model can be misleading. Sampling method is used for balancing classes by over sampling minority class."
      ],
      "metadata": {
        "id": "xbnsuVmUI_AK"
      }
    },
    {
      "cell_type": "code",
      "source": [
        "from imblearn.over_sampling import RandomOverSampler\n",
        "\n",
        "ros = RandomOverSampler(random_state=42)\n",
        "\n",
        "X_resampled, y_resampled = ros.fit_resample(x, y)"
      ],
      "metadata": {
        "id": "ltOgJ7YeUNDP"
      },
      "execution_count": 63,
      "outputs": []
    },
    {
      "cell_type": "code",
      "source": [
        "print(f\"Number of samples: {len(X_resampled)}\")\n",
        "print(f\"Number of transactions happened after 2 months: {y_resampled.sum()}\")"
      ],
      "metadata": {
        "colab": {
          "base_uri": "https://localhost:8080/"
        },
        "id": "anJRPQQxJpyG",
        "outputId": "0d2a0d59-f596-4163-be84-bbef05c62624"
      },
      "execution_count": 64,
      "outputs": [
        {
          "output_type": "stream",
          "name": "stdout",
          "text": [
            "Number of samples: 129738\n",
            "Number of transactions happened after 2 months: 64869\n"
          ]
        }
      ]
    },
    {
      "cell_type": "markdown",
      "source": [
        "Even though classes are balanced right now it can have some issues. The model might overfit to the minority class, specially if the oversampled dataset includes samples that are not diverse enough."
      ],
      "metadata": {
        "id": "_x4kFgB5KTtK"
      }
    },
    {
      "cell_type": "markdown",
      "source": [
        "### Training of first model - Random Forest Classifier with resampled dataset ###"
      ],
      "metadata": {
        "id": "3mXct5rb6tXR"
      }
    },
    {
      "cell_type": "markdown",
      "source": [
        "Random Forest classifier with resampled dataset:"
      ],
      "metadata": {
        "id": "nmc50MT8R_WV"
      }
    },
    {
      "cell_type": "code",
      "source": [
        "X_train, X_test, y_train, y_test = train_test_split(\n",
        "    X_resampled, y_resampled, test_size=0.33, random_state=42)\n",
        "\n",
        "model_resampled = RandomForestClassifier(random_state=42)\n",
        "model_resampled.fit(X_train, y_train)\n",
        "\n",
        "y_pred_resampled = model_resampled.predict(X_test)\n",
        "\n",
        "accuracy_resampled = accuracy_score(y_test, y_pred_resampled)\n",
        "classification_report_resampled = classification_report(y_test, y_pred_resampled, target_names=target_names)\n",
        "\n",
        "print(f\"Accuracy of Random Forest classifier with resampled dataset: {accuracy_resampled}\")\n",
        "print(classification_report_resampled)"
      ],
      "metadata": {
        "colab": {
          "base_uri": "https://localhost:8080/"
        },
        "id": "srbThVhIp4mJ",
        "outputId": "304be9e6-dbad-4da1-96bd-d20330cb8024"
      },
      "execution_count": 65,
      "outputs": [
        {
          "output_type": "stream",
          "name": "stdout",
          "text": [
            "Accuracy of Random Forest classifier with resampled dataset: 0.9823655813518942\n",
            "              precision    recall  f1-score   support\n",
            "\n",
            "     class 0       1.00      0.97      0.98     21475\n",
            "     class 1       0.97      1.00      0.98     21339\n",
            "\n",
            "    accuracy                           0.98     42814\n",
            "   macro avg       0.98      0.98      0.98     42814\n",
            "weighted avg       0.98      0.98      0.98     42814\n",
            "\n"
          ]
        }
      ]
    },
    {
      "cell_type": "markdown",
      "source": [
        "The metrics as accuracy, precision, recall and f1-score is quite high. However, there is potential that it is misleading because of imbalance issue existed in dataset."
      ],
      "metadata": {
        "id": "_WN8tiTmLZmJ"
      }
    },
    {
      "cell_type": "markdown",
      "source": [
        "### Training of second model - Support Vector Machine with resampled dataset ###"
      ],
      "metadata": {
        "id": "okaL75Nr5_Uq"
      }
    },
    {
      "cell_type": "code",
      "source": [
        "from sklearn.inspection import DecisionBoundaryDisplay\n",
        "from sklearn.svm import SVC\n",
        "\n",
        "svm = SVC(kernel=\"rbf\", gamma=0.5, C=1.0)\n",
        "\n",
        "svm.fit(X_train, y_train)\n",
        "\n",
        "y_pred = svm.predict(X_test)\n",
        "\n",
        "accuracy_resampled = accuracy_score(y_test, y_pred)\n",
        "classification_report_resampled = classification_report(y_test, y_pred, target_names=target_names)\n",
        "\n",
        "print(f\"Accuracy of Support Vector Machine with resampled dataset {accuracy_resampled}\")\n",
        "print(classification_report_resampled)"
      ],
      "metadata": {
        "colab": {
          "base_uri": "https://localhost:8080/"
        },
        "id": "FSj1yDgAr0dB",
        "outputId": "63e03227-a4b1-4a02-967b-e916a1de493f"
      },
      "execution_count": 66,
      "outputs": [
        {
          "output_type": "stream",
          "name": "stdout",
          "text": [
            "Accuracy of Support Vector Machine with resampled dataset 0.7848600924931097\n",
            "              precision    recall  f1-score   support\n",
            "\n",
            "     class 0       0.84      0.71      0.77     21475\n",
            "     class 1       0.75      0.86      0.80     21339\n",
            "\n",
            "    accuracy                           0.78     42814\n",
            "   macro avg       0.79      0.79      0.78     42814\n",
            "weighted avg       0.79      0.78      0.78     42814\n",
            "\n"
          ]
        }
      ]
    },
    {
      "cell_type": "markdown",
      "source": [
        "The second model SVM also gave highest performance on test dataset with same metrics."
      ],
      "metadata": {
        "id": "ystlUwAdMW4t"
      }
    },
    {
      "cell_type": "markdown",
      "source": [
        "### Saving model files for deployment ###"
      ],
      "metadata": {
        "id": "HnsXZ6_16E8N"
      }
    },
    {
      "cell_type": "markdown",
      "source": [
        "It is necessary to save the preprocessing data alongside with model file. We need to repeat same steps used during preprocessing in inference."
      ],
      "metadata": {
        "id": "03PqgFHuEoF_"
      }
    },
    {
      "cell_type": "code",
      "source": [
        "import joblib"
      ],
      "metadata": {
        "id": "QZz7d1U-EIdz"
      },
      "execution_count": 85,
      "outputs": []
    },
    {
      "cell_type": "markdown",
      "source": [
        "Saving encoded column names for using in deployment."
      ],
      "metadata": {
        "id": "I39ujqfSEKLM"
      }
    },
    {
      "cell_type": "code",
      "source": [
        "encoded_columns = x.columns\n",
        "\n",
        "joblib.dump(encoded_columns, 'encoded_columns.pkl')"
      ],
      "metadata": {
        "colab": {
          "base_uri": "https://localhost:8080/"
        },
        "id": "bmS3i1da7Kg6",
        "outputId": "f580fae5-f4c4-4662-a7b2-0cd002c0a1c3"
      },
      "execution_count": 86,
      "outputs": [
        {
          "output_type": "execute_result",
          "data": {
            "text/plain": [
              "['encoded_columns.pkl']"
            ]
          },
          "metadata": {},
          "execution_count": 86
        }
      ]
    },
    {
      "cell_type": "markdown",
      "source": [
        "As we scaled some column values, it is necessary to save scaling parameters for deployment"
      ],
      "metadata": {
        "id": "0BVrZ0HAEc95"
      }
    },
    {
      "cell_type": "code",
      "source": [
        "joblib.dump(scaler, 'scaler.pkl')"
      ],
      "metadata": {
        "colab": {
          "base_uri": "https://localhost:8080/"
        },
        "id": "unX9vrYaDo2a",
        "outputId": "db63b5cd-a310-4c22-ea02-bd60ab411379"
      },
      "execution_count": 83,
      "outputs": [
        {
          "output_type": "execute_result",
          "data": {
            "text/plain": [
              "['scaler.pkl']"
            ]
          },
          "metadata": {},
          "execution_count": 83
        }
      ]
    },
    {
      "cell_type": "markdown",
      "source": [
        "Saving SVM model file."
      ],
      "metadata": {
        "id": "zVOYPOejEjIP"
      }
    },
    {
      "cell_type": "code",
      "source": [
        "joblib.dump(svm, 'model.pkl')"
      ],
      "metadata": {
        "colab": {
          "base_uri": "https://localhost:8080/"
        },
        "id": "Ywp6bULkDwY2",
        "outputId": "2c30107b-f337-4581-e9e6-0bb6b60da817"
      },
      "execution_count": 84,
      "outputs": [
        {
          "output_type": "execute_result",
          "data": {
            "text/plain": [
              "['model.pkl']"
            ]
          },
          "metadata": {},
          "execution_count": 84
        }
      ]
    },
    {
      "cell_type": "markdown",
      "source": [
        "### Data insights for team ###"
      ],
      "metadata": {
        "id": "ixxmHpbdzx1r"
      }
    },
    {
      "cell_type": "markdown",
      "source": [
        "Data insights about 506 customers who did next transaction within 2 months:"
      ],
      "metadata": {
        "id": "thZLxIxY0sg3"
      }
    },
    {
      "cell_type": "code",
      "source": [
        "users_2m = data_cleaned[data_cleaned['output']==1]"
      ],
      "metadata": {
        "id": "QLiiwmlMg49v"
      },
      "execution_count": 67,
      "outputs": []
    },
    {
      "cell_type": "code",
      "source": [
        "users_2m['Device_Type'].value_counts()"
      ],
      "metadata": {
        "colab": {
          "base_uri": "https://localhost:8080/",
          "height": 178
        },
        "id": "UXU6egC8hEIY",
        "outputId": "e6886fda-01d4-4acc-e278-2d86d00edc0e"
      },
      "execution_count": 68,
      "outputs": [
        {
          "output_type": "execute_result",
          "data": {
            "text/plain": [
              "Device_Type\n",
              "Web       400\n",
              "Mobile    106\n",
              "Name: count, dtype: int64"
            ],
            "text/html": [
              "<div>\n",
              "<style scoped>\n",
              "    .dataframe tbody tr th:only-of-type {\n",
              "        vertical-align: middle;\n",
              "    }\n",
              "\n",
              "    .dataframe tbody tr th {\n",
              "        vertical-align: top;\n",
              "    }\n",
              "\n",
              "    .dataframe thead th {\n",
              "        text-align: right;\n",
              "    }\n",
              "</style>\n",
              "<table border=\"1\" class=\"dataframe\">\n",
              "  <thead>\n",
              "    <tr style=\"text-align: right;\">\n",
              "      <th></th>\n",
              "      <th>count</th>\n",
              "    </tr>\n",
              "    <tr>\n",
              "      <th>Device_Type</th>\n",
              "      <th></th>\n",
              "    </tr>\n",
              "  </thead>\n",
              "  <tbody>\n",
              "    <tr>\n",
              "      <th>Web</th>\n",
              "      <td>400</td>\n",
              "    </tr>\n",
              "    <tr>\n",
              "      <th>Mobile</th>\n",
              "      <td>106</td>\n",
              "    </tr>\n",
              "  </tbody>\n",
              "</table>\n",
              "</div><br><label><b>dtype:</b> int64</label>"
            ]
          },
          "metadata": {},
          "execution_count": 68
        }
      ]
    },
    {
      "cell_type": "code",
      "source": [
        "users_2m['City'].value_counts()"
      ],
      "metadata": {
        "colab": {
          "base_uri": "https://localhost:8080/",
          "height": 209
        },
        "id": "Pr1UAOp2z3Ig",
        "outputId": "69d20c76-aa0e-4844-d1fb-fb6e6f85bd5a"
      },
      "execution_count": 69,
      "outputs": [
        {
          "output_type": "execute_result",
          "data": {
            "text/plain": [
              "City\n",
              "Seattle          361\n",
              "Los Angles       135\n",
              "New York City     10\n",
              "Name: count, dtype: int64"
            ],
            "text/html": [
              "<div>\n",
              "<style scoped>\n",
              "    .dataframe tbody tr th:only-of-type {\n",
              "        vertical-align: middle;\n",
              "    }\n",
              "\n",
              "    .dataframe tbody tr th {\n",
              "        vertical-align: top;\n",
              "    }\n",
              "\n",
              "    .dataframe thead th {\n",
              "        text-align: right;\n",
              "    }\n",
              "</style>\n",
              "<table border=\"1\" class=\"dataframe\">\n",
              "  <thead>\n",
              "    <tr style=\"text-align: right;\">\n",
              "      <th></th>\n",
              "      <th>count</th>\n",
              "    </tr>\n",
              "    <tr>\n",
              "      <th>City</th>\n",
              "      <th></th>\n",
              "    </tr>\n",
              "  </thead>\n",
              "  <tbody>\n",
              "    <tr>\n",
              "      <th>Seattle</th>\n",
              "      <td>361</td>\n",
              "    </tr>\n",
              "    <tr>\n",
              "      <th>Los Angles</th>\n",
              "      <td>135</td>\n",
              "    </tr>\n",
              "    <tr>\n",
              "      <th>New York City</th>\n",
              "      <td>10</td>\n",
              "    </tr>\n",
              "  </tbody>\n",
              "</table>\n",
              "</div><br><label><b>dtype:</b> int64</label>"
            ]
          },
          "metadata": {},
          "execution_count": 69
        }
      ]
    },
    {
      "cell_type": "code",
      "source": [
        "users_2m['Category'].value_counts()"
      ],
      "metadata": {
        "colab": {
          "base_uri": "https://localhost:8080/",
          "height": 303
        },
        "id": "6xVwm2b-0WBx",
        "outputId": "b20bd1db-1eef-4623-91c9-52cc4177d6b9"
      },
      "execution_count": 70,
      "outputs": [
        {
          "output_type": "execute_result",
          "data": {
            "text/plain": [
              "Category\n",
              "Fashion         289\n",
              "Clothing        178\n",
              "stationaries     18\n",
              "wearables        16\n",
              "Electronics       4\n",
              "House hold        1\n",
              "Name: count, dtype: int64"
            ],
            "text/html": [
              "<div>\n",
              "<style scoped>\n",
              "    .dataframe tbody tr th:only-of-type {\n",
              "        vertical-align: middle;\n",
              "    }\n",
              "\n",
              "    .dataframe tbody tr th {\n",
              "        vertical-align: top;\n",
              "    }\n",
              "\n",
              "    .dataframe thead th {\n",
              "        text-align: right;\n",
              "    }\n",
              "</style>\n",
              "<table border=\"1\" class=\"dataframe\">\n",
              "  <thead>\n",
              "    <tr style=\"text-align: right;\">\n",
              "      <th></th>\n",
              "      <th>count</th>\n",
              "    </tr>\n",
              "    <tr>\n",
              "      <th>Category</th>\n",
              "      <th></th>\n",
              "    </tr>\n",
              "  </thead>\n",
              "  <tbody>\n",
              "    <tr>\n",
              "      <th>Fashion</th>\n",
              "      <td>289</td>\n",
              "    </tr>\n",
              "    <tr>\n",
              "      <th>Clothing</th>\n",
              "      <td>178</td>\n",
              "    </tr>\n",
              "    <tr>\n",
              "      <th>stationaries</th>\n",
              "      <td>18</td>\n",
              "    </tr>\n",
              "    <tr>\n",
              "      <th>wearables</th>\n",
              "      <td>16</td>\n",
              "    </tr>\n",
              "    <tr>\n",
              "      <th>Electronics</th>\n",
              "      <td>4</td>\n",
              "    </tr>\n",
              "    <tr>\n",
              "      <th>House hold</th>\n",
              "      <td>1</td>\n",
              "    </tr>\n",
              "  </tbody>\n",
              "</table>\n",
              "</div><br><label><b>dtype:</b> int64</label>"
            ]
          },
          "metadata": {},
          "execution_count": 70
        }
      ]
    },
    {
      "cell_type": "markdown",
      "source": [
        "From some basic analysis, it seems that most of the customers who did next transaction within 2 months are web users, mostly from Seattle and did purchase in Fashion and Clothing category."
      ],
      "metadata": {
        "id": "u02e9D0A0_4l"
      }
    },
    {
      "cell_type": "markdown",
      "source": [
        "Let's take a look at the demographics of customers who did tansaction after 2 months."
      ],
      "metadata": {
        "id": "U_64u5iN3ZhS"
      }
    },
    {
      "cell_type": "code",
      "source": [
        "users_more_2months = data_cleaned[data_cleaned['days_difference']>60]"
      ],
      "metadata": {
        "id": "-GrnGAAQ3irj"
      },
      "execution_count": 71,
      "outputs": []
    },
    {
      "cell_type": "code",
      "source": [
        "print(f\"Number of customers who did transaction after 2 months: {len(users_more_2months)}\")"
      ],
      "metadata": {
        "colab": {
          "base_uri": "https://localhost:8080/"
        },
        "id": "rGaZn5ZD32CN",
        "outputId": "671f0b51-5ac2-43a6-bc5b-536a641e4ad0"
      },
      "execution_count": 72,
      "outputs": [
        {
          "output_type": "stream",
          "name": "stdout",
          "text": [
            "Number of customers who did transaction after 2 months: 26\n"
          ]
        }
      ]
    },
    {
      "cell_type": "code",
      "source": [
        "users_more_2months['Device_Type'].value_counts()"
      ],
      "metadata": {
        "colab": {
          "base_uri": "https://localhost:8080/",
          "height": 146
        },
        "id": "TK9BfWEa4ewH",
        "outputId": "0f081bdc-dee0-4c99-f67c-494e85af4e3e"
      },
      "execution_count": 73,
      "outputs": [
        {
          "output_type": "execute_result",
          "data": {
            "text/plain": [
              "Device_Type\n",
              "Web    26\n",
              "Name: count, dtype: int64"
            ],
            "text/html": [
              "<div>\n",
              "<style scoped>\n",
              "    .dataframe tbody tr th:only-of-type {\n",
              "        vertical-align: middle;\n",
              "    }\n",
              "\n",
              "    .dataframe tbody tr th {\n",
              "        vertical-align: top;\n",
              "    }\n",
              "\n",
              "    .dataframe thead th {\n",
              "        text-align: right;\n",
              "    }\n",
              "</style>\n",
              "<table border=\"1\" class=\"dataframe\">\n",
              "  <thead>\n",
              "    <tr style=\"text-align: right;\">\n",
              "      <th></th>\n",
              "      <th>count</th>\n",
              "    </tr>\n",
              "    <tr>\n",
              "      <th>Device_Type</th>\n",
              "      <th></th>\n",
              "    </tr>\n",
              "  </thead>\n",
              "  <tbody>\n",
              "    <tr>\n",
              "      <th>Web</th>\n",
              "      <td>26</td>\n",
              "    </tr>\n",
              "  </tbody>\n",
              "</table>\n",
              "</div><br><label><b>dtype:</b> int64</label>"
            ]
          },
          "metadata": {},
          "execution_count": 73
        }
      ]
    },
    {
      "cell_type": "code",
      "source": [
        "users_more_2months['City'].value_counts()"
      ],
      "metadata": {
        "colab": {
          "base_uri": "https://localhost:8080/",
          "height": 178
        },
        "id": "O4FpnXS04kv0",
        "outputId": "522bc785-146c-49ad-f268-ac94912a1ef1"
      },
      "execution_count": 74,
      "outputs": [
        {
          "output_type": "execute_result",
          "data": {
            "text/plain": [
              "City\n",
              "Seattle       19\n",
              "Los Angles     7\n",
              "Name: count, dtype: int64"
            ],
            "text/html": [
              "<div>\n",
              "<style scoped>\n",
              "    .dataframe tbody tr th:only-of-type {\n",
              "        vertical-align: middle;\n",
              "    }\n",
              "\n",
              "    .dataframe tbody tr th {\n",
              "        vertical-align: top;\n",
              "    }\n",
              "\n",
              "    .dataframe thead th {\n",
              "        text-align: right;\n",
              "    }\n",
              "</style>\n",
              "<table border=\"1\" class=\"dataframe\">\n",
              "  <thead>\n",
              "    <tr style=\"text-align: right;\">\n",
              "      <th></th>\n",
              "      <th>count</th>\n",
              "    </tr>\n",
              "    <tr>\n",
              "      <th>City</th>\n",
              "      <th></th>\n",
              "    </tr>\n",
              "  </thead>\n",
              "  <tbody>\n",
              "    <tr>\n",
              "      <th>Seattle</th>\n",
              "      <td>19</td>\n",
              "    </tr>\n",
              "    <tr>\n",
              "      <th>Los Angles</th>\n",
              "      <td>7</td>\n",
              "    </tr>\n",
              "  </tbody>\n",
              "</table>\n",
              "</div><br><label><b>dtype:</b> int64</label>"
            ]
          },
          "metadata": {},
          "execution_count": 74
        }
      ]
    },
    {
      "cell_type": "code",
      "source": [
        "users_more_2months['Category'].value_counts()"
      ],
      "metadata": {
        "colab": {
          "base_uri": "https://localhost:8080/",
          "height": 178
        },
        "id": "ZhNdZd2c4oOy",
        "outputId": "328a7b0d-f04e-403a-c839-f3485f01fca1"
      },
      "execution_count": 75,
      "outputs": [
        {
          "output_type": "execute_result",
          "data": {
            "text/plain": [
              "Category\n",
              "Clothing    17\n",
              "Fashion      9\n",
              "Name: count, dtype: int64"
            ],
            "text/html": [
              "<div>\n",
              "<style scoped>\n",
              "    .dataframe tbody tr th:only-of-type {\n",
              "        vertical-align: middle;\n",
              "    }\n",
              "\n",
              "    .dataframe tbody tr th {\n",
              "        vertical-align: top;\n",
              "    }\n",
              "\n",
              "    .dataframe thead th {\n",
              "        text-align: right;\n",
              "    }\n",
              "</style>\n",
              "<table border=\"1\" class=\"dataframe\">\n",
              "  <thead>\n",
              "    <tr style=\"text-align: right;\">\n",
              "      <th></th>\n",
              "      <th>count</th>\n",
              "    </tr>\n",
              "    <tr>\n",
              "      <th>Category</th>\n",
              "      <th></th>\n",
              "    </tr>\n",
              "  </thead>\n",
              "  <tbody>\n",
              "    <tr>\n",
              "      <th>Clothing</th>\n",
              "      <td>17</td>\n",
              "    </tr>\n",
              "    <tr>\n",
              "      <th>Fashion</th>\n",
              "      <td>9</td>\n",
              "    </tr>\n",
              "  </tbody>\n",
              "</table>\n",
              "</div><br><label><b>dtype:</b> int64</label>"
            ]
          },
          "metadata": {},
          "execution_count": 75
        }
      ]
    },
    {
      "cell_type": "markdown",
      "source": [
        "As it is seen customers who did purchase within and after 2 months are same. We can say that they are loyal customers and marketing team can focus on campaigns for other demographics."
      ],
      "metadata": {
        "id": "ET4QpsT145tu"
      }
    }
  ]
}